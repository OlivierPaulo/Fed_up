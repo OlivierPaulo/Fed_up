{
 "cells": [
  {
   "cell_type": "code",
   "execution_count": 1,
   "metadata": {},
   "outputs": [],
   "source": [
    "import numpy as np\n",
    "import pandas as pd\n",
    "import matplotlib.pyplot as plt\n",
    "import seaborn as sns"
   ]
  },
  {
   "cell_type": "markdown",
   "metadata": {},
   "source": [
    "# Loading Data"
   ]
  },
  {
   "cell_type": "code",
   "execution_count": 2,
   "metadata": {},
   "outputs": [
    {
     "name": "stdout",
     "output_type": "stream",
     "text": [
      "recipe_pp.csv review_pp.csv\r\n"
     ]
    }
   ],
   "source": [
    "!ls '../../Fed_up/data/preprocessed'"
   ]
  },
  {
   "cell_type": "code",
   "execution_count": 3,
   "metadata": {},
   "outputs": [],
   "source": [
    "reviews = pd.read_csv('../../Fed_up/data/preprocessed/review_pp.csv')"
   ]
  },
  {
   "cell_type": "code",
   "execution_count": 4,
   "metadata": {},
   "outputs": [
    {
     "data": {
      "text/plain": [
       "901746"
      ]
     },
     "execution_count": 4,
     "metadata": {},
     "output_type": "execute_result"
    }
   ],
   "source": [
    "reviews.shape[0]"
   ]
  },
  {
   "cell_type": "code",
   "execution_count": 5,
   "metadata": {
    "scrolled": true
   },
   "outputs": [
    {
     "data": {
      "text/html": [
       "<div>\n",
       "<style scoped>\n",
       "    .dataframe tbody tr th:only-of-type {\n",
       "        vertical-align: middle;\n",
       "    }\n",
       "\n",
       "    .dataframe tbody tr th {\n",
       "        vertical-align: top;\n",
       "    }\n",
       "\n",
       "    .dataframe thead th {\n",
       "        text-align: right;\n",
       "    }\n",
       "</style>\n",
       "<table border=\"1\" class=\"dataframe\">\n",
       "  <thead>\n",
       "    <tr style=\"text-align: right;\">\n",
       "      <th></th>\n",
       "      <th>recipe_id</th>\n",
       "      <th>user_id</th>\n",
       "      <th>rating</th>\n",
       "      <th>liked</th>\n",
       "      <th>review</th>\n",
       "      <th>date</th>\n",
       "    </tr>\n",
       "  </thead>\n",
       "  <tbody>\n",
       "    <tr>\n",
       "      <th>0</th>\n",
       "      <td>120345</td>\n",
       "      <td>52282</td>\n",
       "      <td>4</td>\n",
       "      <td>1</td>\n",
       "      <td>very very sweet. after i waited the 2 days i b...</td>\n",
       "      <td>2005-05-21</td>\n",
       "    </tr>\n",
       "    <tr>\n",
       "      <th>1</th>\n",
       "      <td>120345</td>\n",
       "      <td>124416</td>\n",
       "      <td>0</td>\n",
       "      <td>0</td>\n",
       "      <td>Just an observation, so I will not rate.  I fo...</td>\n",
       "      <td>2011-08-06</td>\n",
       "    </tr>\n",
       "    <tr>\n",
       "      <th>2</th>\n",
       "      <td>120345</td>\n",
       "      <td>2000192946</td>\n",
       "      <td>2</td>\n",
       "      <td>0</td>\n",
       "      <td>This recipe was OVERLY too sweet.  I would sta...</td>\n",
       "      <td>2015-05-10</td>\n",
       "    </tr>\n",
       "    <tr>\n",
       "      <th>3</th>\n",
       "      <td>134728</td>\n",
       "      <td>76535</td>\n",
       "      <td>4</td>\n",
       "      <td>1</td>\n",
       "      <td>Very good!</td>\n",
       "      <td>2005-09-02</td>\n",
       "    </tr>\n",
       "    <tr>\n",
       "      <th>4</th>\n",
       "      <td>134728</td>\n",
       "      <td>273745</td>\n",
       "      <td>5</td>\n",
       "      <td>1</td>\n",
       "      <td>Better than the real!!</td>\n",
       "      <td>2005-12-22</td>\n",
       "    </tr>\n",
       "  </tbody>\n",
       "</table>\n",
       "</div>"
      ],
      "text/plain": [
       "   recipe_id     user_id  rating  liked  \\\n",
       "0     120345       52282       4      1   \n",
       "1     120345      124416       0      0   \n",
       "2     120345  2000192946       2      0   \n",
       "3     134728       76535       4      1   \n",
       "4     134728      273745       5      1   \n",
       "\n",
       "                                              review        date  \n",
       "0  very very sweet. after i waited the 2 days i b...  2005-05-21  \n",
       "1  Just an observation, so I will not rate.  I fo...  2011-08-06  \n",
       "2  This recipe was OVERLY too sweet.  I would sta...  2015-05-10  \n",
       "3                                         Very good!  2005-09-02  \n",
       "4                             Better than the real!!  2005-12-22  "
      ]
     },
     "execution_count": 5,
     "metadata": {},
     "output_type": "execute_result"
    }
   ],
   "source": [
    "reviews.head()"
   ]
  },
  {
   "cell_type": "code",
   "execution_count": 6,
   "metadata": {},
   "outputs": [],
   "source": [
    "reviews = reviews[reviews['rating'] > 0]"
   ]
  },
  {
   "cell_type": "code",
   "execution_count": 7,
   "metadata": {
    "scrolled": true
   },
   "outputs": [
    {
     "data": {
      "text/plain": [
       "<AxesSubplot:xlabel='rating', ylabel='Count'>"
      ]
     },
     "execution_count": 7,
     "metadata": {},
     "output_type": "execute_result"
    },
    {
     "data": {
      "image/png": "[encoded data removed]",
      "text/plain": [
       "<Figure size 432x288 with 1 Axes>"
      ]
     },
     "metadata": {
      "needs_background": "light"
     },
     "output_type": "display_data"
    }
   ],
   "source": [
    "sns.histplot(reviews['rating'])"
   ]
  },
  {
   "cell_type": "markdown",
   "metadata": {},
   "source": [
    "# Train/Test Split"
   ]
  },
  {
   "cell_type": "code",
   "execution_count": 22,
   "metadata": {},
   "outputs": [],
   "source": [
    "def generate_test_data(data, min_reviews=2):\n",
    "    \n",
    "    # Fetching the review dataframe\n",
    "    # print(\"Fetching the review dataframe...\")\n",
    "    # data = pd.read_csv(filepath)\n",
    "    \n",
    "    # Creating user / reviews dict\n",
    "    print(\"Creating user and reviews dict...\")\n",
    "    user_reviews = data.groupby('user_id') \\\n",
    "                       .agg({'recipe_id': (lambda x: list(x)), \n",
    "                             'rating': (lambda x: list(x)),\n",
    "                             'liked': (lambda x: list(x))}) \\\n",
    "                       .reset_index()\n",
    "            \n",
    "    # Selecting only users with at least min_reviews (2 by default)\n",
    "    print(f\"Selecting only users with at least {min_reviews} reviews...\")\n",
    "    selected_user_reviews = user_reviews[user_reviews['recipe_id'].str.len() >= min_reviews]\n",
    "    \n",
    "    print(\"Create and filling evaluation dataframe...\")\n",
    "    \n",
    "    # Create evaluation dataframe\n",
    "    test_df = pd.DataFrame(columns=['user_id', 'inputs', 'target', 'rating', 'liked'])\n",
    "    \n",
    "    # Filling in the evaluation dataframe\n",
    "    for index, row in selected_user_reviews.iterrows():\n",
    "        user = row['user_id']\n",
    "        target = row['recipe_id'][-1]\n",
    "        liked = row['liked'][-1]\n",
    "        rating = row['rating'][-1]\n",
    "        inputs = {row['recipe_id'][i]: row['liked'][i] for i in range(len(row['recipe_id']) - 1)}\n",
    "\n",
    "        new_row = {'user_id': user, 'inputs': inputs, 'target': target, 'rating': rating, 'liked': liked}\n",
    "        test_df = test_df.append(new_row, ignore_index=True)\n",
    "        \n",
    "    return test_df"
   ]
  },
  {
   "cell_type": "code",
   "execution_count": 23,
   "metadata": {},
   "outputs": [
    {
     "name": "stdout",
     "output_type": "stream",
     "text": [
      "Creating user and reviews dict...\n",
      "Selecting only users with at least 2 reviews...\n",
      "Create and filling evaluation dataframe...\n"
     ]
    }
   ],
   "source": [
    "data = generate_test_data(reviews, min_reviews=2)"
   ]
  },
  {
   "cell_type": "code",
   "execution_count": 24,
   "metadata": {},
   "outputs": [
    {
     "data": {
      "text/html": [
       "<div>\n",
       "<style scoped>\n",
       "    .dataframe tbody tr th:only-of-type {\n",
       "        vertical-align: middle;\n",
       "    }\n",
       "\n",
       "    .dataframe tbody tr th {\n",
       "        vertical-align: top;\n",
       "    }\n",
       "\n",
       "    .dataframe thead th {\n",
       "        text-align: right;\n",
       "    }\n",
       "</style>\n",
       "<table border=\"1\" class=\"dataframe\">\n",
       "  <thead>\n",
       "    <tr style=\"text-align: right;\">\n",
       "      <th></th>\n",
       "      <th>user_id</th>\n",
       "      <th>inputs</th>\n",
       "      <th>target</th>\n",
       "      <th>rating</th>\n",
       "      <th>liked</th>\n",
       "    </tr>\n",
       "  </thead>\n",
       "  <tbody>\n",
       "    <tr>\n",
       "      <th>0</th>\n",
       "      <td>1533</td>\n",
       "      <td>{116345: 1, 32907: 1, 24136: 1, 35346: 1, 9662...</td>\n",
       "      <td>25844</td>\n",
       "      <td>5</td>\n",
       "      <td>1</td>\n",
       "    </tr>\n",
       "    <tr>\n",
       "      <th>1</th>\n",
       "      <td>1535</td>\n",
       "      <td>{50022: 1, 78834: 1, 47474: 1, 230720: 1, 1411...</td>\n",
       "      <td>116202</td>\n",
       "      <td>5</td>\n",
       "      <td>1</td>\n",
       "    </tr>\n",
       "    <tr>\n",
       "      <th>2</th>\n",
       "      <td>1634</td>\n",
       "      <td>{16512: 1, 158215: 1, 26212: 1, 168194: 0, 114...</td>\n",
       "      <td>22689</td>\n",
       "      <td>5</td>\n",
       "      <td>1</td>\n",
       "    </tr>\n",
       "    <tr>\n",
       "      <th>3</th>\n",
       "      <td>1676</td>\n",
       "      <td>{34233: 1, 99156: 1, 66799: 1, 166273: 1, 2506...</td>\n",
       "      <td>163276</td>\n",
       "      <td>5</td>\n",
       "      <td>1</td>\n",
       "    </tr>\n",
       "    <tr>\n",
       "      <th>4</th>\n",
       "      <td>1773</td>\n",
       "      <td>{278: 1}</td>\n",
       "      <td>7435</td>\n",
       "      <td>5</td>\n",
       "      <td>1</td>\n",
       "    </tr>\n",
       "  </tbody>\n",
       "</table>\n",
       "</div>"
      ],
      "text/plain": [
       "  user_id                                             inputs  target rating  \\\n",
       "0    1533  {116345: 1, 32907: 1, 24136: 1, 35346: 1, 9662...   25844      5   \n",
       "1    1535  {50022: 1, 78834: 1, 47474: 1, 230720: 1, 1411...  116202      5   \n",
       "2    1634  {16512: 1, 158215: 1, 26212: 1, 168194: 0, 114...   22689      5   \n",
       "3    1676  {34233: 1, 99156: 1, 66799: 1, 166273: 1, 2506...  163276      5   \n",
       "4    1773                                           {278: 1}    7435      5   \n",
       "\n",
       "  liked  \n",
       "0     1  \n",
       "1     1  \n",
       "2     1  \n",
       "3     1  \n",
       "4     1  "
      ]
     },
     "execution_count": 24,
     "metadata": {},
     "output_type": "execute_result"
    }
   ],
   "source": [
    "data.head()"
   ]
  },
  {
   "cell_type": "code",
   "execution_count": 123,
   "metadata": {},
   "outputs": [],
   "source": [
    "def generate_rating(df):\n",
    "    cumdist = data.groupby('rating')['rating'].count().sort_index().cumsum() / len(data)\n",
    "    bined_rec_score = pd.qcut(data['rec_score'], q=[0.0] + list(cumdist.values))\n",
    "    new_rating = pd.qcut(data['rec_score'], q=[0.0] + list(cumdist.values), labels=list(cumdist.index)).astype(int)\n",
    "    return new_rating"
   ]
  },
  {
   "cell_type": "code",
   "execution_count": 149,
   "metadata": {},
   "outputs": [],
   "source": [
    "from scipy.stats import lognorm\n",
    "\n",
    "def run_test(data, predict=False):\n",
    "    \n",
    "    if predict:\n",
    "        pass\n",
    "    else:\n",
    "        ln = lognorm.rvs(0.2, size=data.shape[0])\n",
    "        predictions = (ln - ln.min()) / (ln.max() - ln.min())\n",
    "        \n",
    "    data['rec_score'] = predictions\n",
    "    data['rec_rating'] = generate_rating(data[['rating', 'rec_score']])\n",
    "    data['rec_liked'] = 0\n",
    "    data['rec_classify'] = ''\n",
    "    \n",
    "    for index, row in data.iterrows():\n",
    "        if data.loc[index, 'rec_rating'] >= 4:\n",
    "            data.loc[index, 'rec_liked'] = 1\n",
    "        \n",
    "        actual = data.loc[index, 'liked'] == 1\n",
    "        predict = data.loc[index, 'rec_liked'] == 1\n",
    "        \n",
    "        if predict and actual:\n",
    "            data.loc[index, 'rec_classify'] = 'TP'\n",
    "        elif predict and not actual:\n",
    "            data.loc[index, 'rec_classify'] = 'FP'\n",
    "        elif not predict and not actual:\n",
    "            data.loc[index, 'rec_classify'] = 'TN'\n",
    "        elif not predict and actual: \n",
    "            data.loc[index, 'rec_classify'] = 'FN'\n",
    "    \n",
    "    return data"
   ]
  },
  {
   "cell_type": "code",
   "execution_count": 150,
   "metadata": {},
   "outputs": [],
   "source": [
    "test_data = run_test(data)"
   ]
  },
  {
   "cell_type": "code",
   "execution_count": 151,
   "metadata": {
    "scrolled": true
   },
   "outputs": [
    {
     "data": {
      "text/html": [
       "<div>\n",
       "<style scoped>\n",
       "    .dataframe tbody tr th:only-of-type {\n",
       "        vertical-align: middle;\n",
       "    }\n",
       "\n",
       "    .dataframe tbody tr th {\n",
       "        vertical-align: top;\n",
       "    }\n",
       "\n",
       "    .dataframe thead th {\n",
       "        text-align: right;\n",
       "    }\n",
       "</style>\n",
       "<table border=\"1\" class=\"dataframe\">\n",
       "  <thead>\n",
       "    <tr style=\"text-align: right;\">\n",
       "      <th></th>\n",
       "      <th>user_id</th>\n",
       "      <th>inputs</th>\n",
       "      <th>target</th>\n",
       "      <th>rating</th>\n",
       "      <th>liked</th>\n",
       "      <th>rec_score</th>\n",
       "      <th>rec_rating</th>\n",
       "      <th>rec_liked</th>\n",
       "      <th>rec_classify</th>\n",
       "    </tr>\n",
       "  </thead>\n",
       "  <tbody>\n",
       "    <tr>\n",
       "      <th>15391</th>\n",
       "      <td>317096</td>\n",
       "      <td>{51872: 1}</td>\n",
       "      <td>159576</td>\n",
       "      <td>5</td>\n",
       "      <td>1</td>\n",
       "      <td>0.198090</td>\n",
       "      <td>4</td>\n",
       "      <td>1</td>\n",
       "      <td>TP</td>\n",
       "    </tr>\n",
       "    <tr>\n",
       "      <th>12807</th>\n",
       "      <td>254149</td>\n",
       "      <td>{78772: 1}</td>\n",
       "      <td>67117</td>\n",
       "      <td>5</td>\n",
       "      <td>1</td>\n",
       "      <td>0.250782</td>\n",
       "      <td>5</td>\n",
       "      <td>1</td>\n",
       "      <td>TP</td>\n",
       "    </tr>\n",
       "    <tr>\n",
       "      <th>5071</th>\n",
       "      <td>103142</td>\n",
       "      <td>{309043: 1, 74982: 1, 68306: 1, 74810: 1, 4500...</td>\n",
       "      <td>347212</td>\n",
       "      <td>5</td>\n",
       "      <td>1</td>\n",
       "      <td>0.322862</td>\n",
       "      <td>5</td>\n",
       "      <td>1</td>\n",
       "      <td>TP</td>\n",
       "    </tr>\n",
       "    <tr>\n",
       "      <th>28163</th>\n",
       "      <td>735318</td>\n",
       "      <td>{69633: 1}</td>\n",
       "      <td>69630</td>\n",
       "      <td>5</td>\n",
       "      <td>1</td>\n",
       "      <td>0.173706</td>\n",
       "      <td>4</td>\n",
       "      <td>1</td>\n",
       "      <td>TP</td>\n",
       "    </tr>\n",
       "    <tr>\n",
       "      <th>13726</th>\n",
       "      <td>278152</td>\n",
       "      <td>{54112: 1, 122033: 1, 115222: 1, 121262: 1, 12...</td>\n",
       "      <td>102394</td>\n",
       "      <td>5</td>\n",
       "      <td>1</td>\n",
       "      <td>0.207759</td>\n",
       "      <td>5</td>\n",
       "      <td>1</td>\n",
       "      <td>TP</td>\n",
       "    </tr>\n",
       "    <tr>\n",
       "      <th>6612</th>\n",
       "      <td>134583</td>\n",
       "      <td>{77201: 1}</td>\n",
       "      <td>291063</td>\n",
       "      <td>5</td>\n",
       "      <td>1</td>\n",
       "      <td>0.213696</td>\n",
       "      <td>5</td>\n",
       "      <td>1</td>\n",
       "      <td>TP</td>\n",
       "    </tr>\n",
       "    <tr>\n",
       "      <th>44166</th>\n",
       "      <td>2916010</td>\n",
       "      <td>{441156: 1, 7020: 0, 324951: 1, 191465: 1, 396...</td>\n",
       "      <td>107317</td>\n",
       "      <td>5</td>\n",
       "      <td>1</td>\n",
       "      <td>0.303971</td>\n",
       "      <td>5</td>\n",
       "      <td>1</td>\n",
       "      <td>TP</td>\n",
       "    </tr>\n",
       "    <tr>\n",
       "      <th>44403</th>\n",
       "      <td>45716210</td>\n",
       "      <td>{754: 1, 70117: 1, 151957: 1}</td>\n",
       "      <td>370354</td>\n",
       "      <td>5</td>\n",
       "      <td>1</td>\n",
       "      <td>0.367033</td>\n",
       "      <td>5</td>\n",
       "      <td>1</td>\n",
       "      <td>TP</td>\n",
       "    </tr>\n",
       "    <tr>\n",
       "      <th>41276</th>\n",
       "      <td>1818165</td>\n",
       "      <td>{169050: 1}</td>\n",
       "      <td>230902</td>\n",
       "      <td>5</td>\n",
       "      <td>1</td>\n",
       "      <td>0.443860</td>\n",
       "      <td>5</td>\n",
       "      <td>1</td>\n",
       "      <td>TP</td>\n",
       "    </tr>\n",
       "    <tr>\n",
       "      <th>43322</th>\n",
       "      <td>2482292</td>\n",
       "      <td>{194664: 1}</td>\n",
       "      <td>204071</td>\n",
       "      <td>5</td>\n",
       "      <td>1</td>\n",
       "      <td>0.202600</td>\n",
       "      <td>4</td>\n",
       "      <td>1</td>\n",
       "      <td>TP</td>\n",
       "    </tr>\n",
       "  </tbody>\n",
       "</table>\n",
       "</div>"
      ],
      "text/plain": [
       "        user_id                                             inputs  target  \\\n",
       "15391    317096                                         {51872: 1}  159576   \n",
       "12807    254149                                         {78772: 1}   67117   \n",
       "5071     103142  {309043: 1, 74982: 1, 68306: 1, 74810: 1, 4500...  347212   \n",
       "28163    735318                                         {69633: 1}   69630   \n",
       "13726    278152  {54112: 1, 122033: 1, 115222: 1, 121262: 1, 12...  102394   \n",
       "6612     134583                                         {77201: 1}  291063   \n",
       "44166   2916010  {441156: 1, 7020: 0, 324951: 1, 191465: 1, 396...  107317   \n",
       "44403  45716210                      {754: 1, 70117: 1, 151957: 1}  370354   \n",
       "41276   1818165                                        {169050: 1}  230902   \n",
       "43322   2482292                                        {194664: 1}  204071   \n",
       "\n",
       "      rating liked  rec_score  rec_rating  rec_liked rec_classify  \n",
       "15391      5     1   0.198090           4          1           TP  \n",
       "12807      5     1   0.250782           5          1           TP  \n",
       "5071       5     1   0.322862           5          1           TP  \n",
       "28163      5     1   0.173706           4          1           TP  \n",
       "13726      5     1   0.207759           5          1           TP  \n",
       "6612       5     1   0.213696           5          1           TP  \n",
       "44166      5     1   0.303971           5          1           TP  \n",
       "44403      5     1   0.367033           5          1           TP  \n",
       "41276      5     1   0.443860           5          1           TP  \n",
       "43322      5     1   0.202600           4          1           TP  "
      ]
     },
     "execution_count": 151,
     "metadata": {},
     "output_type": "execute_result"
    }
   ],
   "source": [
    "test_data.sample(10)"
   ]
  },
  {
   "cell_type": "code",
   "execution_count": 144,
   "metadata": {},
   "outputs": [
    {
     "data": {
      "text/plain": [
       "5    36418\n",
       "4     7355\n",
       "3     1924\n",
       "2      872\n",
       "1      806\n",
       "Name: rating, dtype: int64"
      ]
     },
     "execution_count": 144,
     "metadata": {},
     "output_type": "execute_result"
    }
   ],
   "source": [
    "test_data.rating.value_counts()"
   ]
  },
  {
   "cell_type": "code",
   "execution_count": 145,
   "metadata": {},
   "outputs": [
    {
     "data": {
      "text/plain": [
       "5    36418\n",
       "4     7355\n",
       "3     1924\n",
       "2      872\n",
       "1      806\n",
       "Name: rec_rating, dtype: int64"
      ]
     },
     "execution_count": 145,
     "metadata": {},
     "output_type": "execute_result"
    }
   ],
   "source": [
    "test_data.rec_rating.value_counts()"
   ]
  },
  {
   "cell_type": "markdown",
   "metadata": {},
   "source": [
    "# Rating"
   ]
  },
  {
   "cell_type": "markdown",
   "metadata": {},
   "source": [
    "## MAE"
   ]
  },
  {
   "cell_type": "code",
   "execution_count": 153,
   "metadata": {},
   "outputs": [],
   "source": [
    "def rating_mae(data):\n",
    "    mae = np.mean(np.abs(data['rating'] - data['rec_rating']))\n",
    "    return np.round(mae, 3)"
   ]
  },
  {
   "cell_type": "markdown",
   "metadata": {},
   "source": [
    "## Large Error %"
   ]
  },
  {
   "cell_type": "code",
   "execution_count": 156,
   "metadata": {},
   "outputs": [],
   "source": [
    "def rating_le(data, dif_threshold=1):\n",
    "    le = [1 if (data.loc[index, 'rating'] - data.loc[index, 'rec_rating']) > dif_threshold else 0 for index, row in data.iterrows()]\n",
    "    return np.round(sum(le) / len(le), 3)"
   ]
  },
  {
   "cell_type": "markdown",
   "metadata": {},
   "source": [
    "# Like Classification"
   ]
  },
  {
   "cell_type": "markdown",
   "metadata": {},
   "source": [
    "## Like Accuracy"
   ]
  },
  {
   "cell_type": "code",
   "execution_count": 133,
   "metadata": {},
   "outputs": [],
   "source": [
    "def like_accuracy(data):\n",
    "    counts = data['rec_classify'].value_counts()\n",
    "    num = counts.get('TP', 0) + counts.get('TN', 0)\n",
    "    den = counts.sum()\n",
    "    \n",
    "    if den > 0:                              \n",
    "        return np.round(num/den, 3)\n",
    "    return 0.0"
   ]
  },
  {
   "cell_type": "markdown",
   "metadata": {},
   "source": [
    "## Like Precision"
   ]
  },
  {
   "cell_type": "code",
   "execution_count": 134,
   "metadata": {},
   "outputs": [],
   "source": [
    "def like_precision(data):\n",
    "    counts = data['rec_classify'].value_counts()\n",
    "    num = counts.get('TP', 0)\n",
    "    den = counts.get('TP', 0) + counts.get('FP', 0)\n",
    "    \n",
    "    if den > 0:                              \n",
    "        return np.round(num/den, 3)\n",
    "    return 0.0"
   ]
  },
  {
   "cell_type": "markdown",
   "metadata": {},
   "source": [
    "## Like Recall"
   ]
  },
  {
   "cell_type": "code",
   "execution_count": 135,
   "metadata": {},
   "outputs": [],
   "source": [
    "def like_recall(data):\n",
    "    counts = data['rec_classify'].value_counts()\n",
    "    num = counts.get('TP', 0)\n",
    "    den = counts.get('TP', 0) + counts.get('FN', 0)\n",
    "    \n",
    "    if den > 0:                              \n",
    "        return np.round(num/den, 3)\n",
    "    return 0.0"
   ]
  },
  {
   "cell_type": "markdown",
   "metadata": {},
   "source": [
    "## Like F1"
   ]
  },
  {
   "cell_type": "code",
   "execution_count": 136,
   "metadata": {},
   "outputs": [],
   "source": [
    "def like_f1(data):\n",
    "    counts = data['rec_classify'].value_counts()\n",
    "    num = 2 * counts.get('TP', 0)\n",
    "    den = 2 * counts.get('TP', 0) + counts.get('FN', 0) + counts.get('FP', 0)\n",
    "    \n",
    "    if den > 0:                              \n",
    "        return np.round(num/den, 3)\n",
    "    return 0.0"
   ]
  },
  {
   "cell_type": "markdown",
   "metadata": {},
   "source": [
    "# Get Scoring Metrics"
   ]
  },
  {
   "cell_type": "code",
   "execution_count": 137,
   "metadata": {},
   "outputs": [],
   "source": [
    "def get_scoring_metrics(data, sample=None, le_dif_threshold=0.25):\n",
    "    \n",
    "    if sample is None:\n",
    "        tdata = data.copy()\n",
    "    else:\n",
    "        tdata = data.copy().sample(sample)\n",
    "        \n",
    "    return {'rating_mae': rating_mae(tdata),\n",
    "            'rating_le': rating_le(tdata, dif_threshold=le_dif_threshold),\n",
    "            'like_accuracy': like_accuracy(tdata),\n",
    "            'like_precision': like_precision(tdata),\n",
    "            'like_recall': like_recall(tdata),\n",
    "            'like_f1': like_f1(tdata)}"
   ]
  },
  {
   "cell_type": "code",
   "execution_count": 157,
   "metadata": {
    "scrolled": true
   },
   "outputs": [
    {
     "data": {
      "text/plain": [
       "{'rating_mae': 0.596,\n",
       " 'rating_le': 0.19,\n",
       " 'like_accuracy': 0.859,\n",
       " 'like_precision': 0.924,\n",
       " 'like_recall': 0.924,\n",
       " 'like_f1': 0.924}"
      ]
     },
     "execution_count": 157,
     "metadata": {},
     "output_type": "execute_result"
    }
   ],
   "source": [
    "get_scoring_metrics(test_data)"
   ]
  },
  {
   "cell_type": "code",
   "execution_count": 139,
   "metadata": {},
   "outputs": [
    {
     "data": {
      "text/html": [
       "<div>\n",
       "<style scoped>\n",
       "    .dataframe tbody tr th:only-of-type {\n",
       "        vertical-align: middle;\n",
       "    }\n",
       "\n",
       "    .dataframe tbody tr th {\n",
       "        vertical-align: top;\n",
       "    }\n",
       "\n",
       "    .dataframe thead th {\n",
       "        text-align: right;\n",
       "    }\n",
       "</style>\n",
       "<table border=\"1\" class=\"dataframe\">\n",
       "  <thead>\n",
       "    <tr style=\"text-align: right;\">\n",
       "      <th></th>\n",
       "      <th>user_id</th>\n",
       "      <th>inputs</th>\n",
       "      <th>target</th>\n",
       "      <th>rating</th>\n",
       "      <th>liked</th>\n",
       "      <th>rec_score</th>\n",
       "      <th>rec_rating</th>\n",
       "      <th>rec_liked</th>\n",
       "      <th>rec_classify</th>\n",
       "    </tr>\n",
       "  </thead>\n",
       "  <tbody>\n",
       "    <tr>\n",
       "      <th>0</th>\n",
       "      <td>1533</td>\n",
       "      <td>{116345: 1, 32907: 1, 24136: 1, 35346: 1, 9662...</td>\n",
       "      <td>25844</td>\n",
       "      <td>5</td>\n",
       "      <td>1</td>\n",
       "      <td>0.424122</td>\n",
       "      <td>5</td>\n",
       "      <td>1</td>\n",
       "      <td>FN</td>\n",
       "    </tr>\n",
       "    <tr>\n",
       "      <th>1</th>\n",
       "      <td>1535</td>\n",
       "      <td>{50022: 1, 78834: 1, 47474: 1, 230720: 1, 1411...</td>\n",
       "      <td>116202</td>\n",
       "      <td>5</td>\n",
       "      <td>1</td>\n",
       "      <td>0.375867</td>\n",
       "      <td>5</td>\n",
       "      <td>1</td>\n",
       "      <td>FN</td>\n",
       "    </tr>\n",
       "    <tr>\n",
       "      <th>2</th>\n",
       "      <td>1634</td>\n",
       "      <td>{16512: 1, 158215: 1, 26212: 1, 168194: 0, 114...</td>\n",
       "      <td>22689</td>\n",
       "      <td>5</td>\n",
       "      <td>1</td>\n",
       "      <td>0.201213</td>\n",
       "      <td>4</td>\n",
       "      <td>1</td>\n",
       "      <td>FN</td>\n",
       "    </tr>\n",
       "    <tr>\n",
       "      <th>3</th>\n",
       "      <td>1676</td>\n",
       "      <td>{34233: 1, 99156: 1, 66799: 1, 166273: 1, 2506...</td>\n",
       "      <td>163276</td>\n",
       "      <td>5</td>\n",
       "      <td>1</td>\n",
       "      <td>0.263398</td>\n",
       "      <td>5</td>\n",
       "      <td>1</td>\n",
       "      <td>FN</td>\n",
       "    </tr>\n",
       "    <tr>\n",
       "      <th>4</th>\n",
       "      <td>1773</td>\n",
       "      <td>{278: 1}</td>\n",
       "      <td>7435</td>\n",
       "      <td>5</td>\n",
       "      <td>1</td>\n",
       "      <td>0.308414</td>\n",
       "      <td>5</td>\n",
       "      <td>1</td>\n",
       "      <td>FN</td>\n",
       "    </tr>\n",
       "    <tr>\n",
       "      <th>...</th>\n",
       "      <td>...</td>\n",
       "      <td>...</td>\n",
       "      <td>...</td>\n",
       "      <td>...</td>\n",
       "      <td>...</td>\n",
       "      <td>...</td>\n",
       "      <td>...</td>\n",
       "      <td>...</td>\n",
       "      <td>...</td>\n",
       "    </tr>\n",
       "    <tr>\n",
       "      <th>47370</th>\n",
       "      <td>2002331093</td>\n",
       "      <td>{388066: 0}</td>\n",
       "      <td>79388</td>\n",
       "      <td>5</td>\n",
       "      <td>1</td>\n",
       "      <td>0.574873</td>\n",
       "      <td>5</td>\n",
       "      <td>1</td>\n",
       "      <td>FN</td>\n",
       "    </tr>\n",
       "    <tr>\n",
       "      <th>47371</th>\n",
       "      <td>2002346480</td>\n",
       "      <td>{332323: 0}</td>\n",
       "      <td>407995</td>\n",
       "      <td>5</td>\n",
       "      <td>1</td>\n",
       "      <td>0.203107</td>\n",
       "      <td>4</td>\n",
       "      <td>1</td>\n",
       "      <td>FN</td>\n",
       "    </tr>\n",
       "    <tr>\n",
       "      <th>47372</th>\n",
       "      <td>2002357452</td>\n",
       "      <td>{535852: 1}</td>\n",
       "      <td>535853</td>\n",
       "      <td>1</td>\n",
       "      <td>0</td>\n",
       "      <td>0.329560</td>\n",
       "      <td>5</td>\n",
       "      <td>1</td>\n",
       "      <td>TN</td>\n",
       "    </tr>\n",
       "    <tr>\n",
       "      <th>47373</th>\n",
       "      <td>2002357459</td>\n",
       "      <td>{535852: 1}</td>\n",
       "      <td>535853</td>\n",
       "      <td>5</td>\n",
       "      <td>1</td>\n",
       "      <td>0.421892</td>\n",
       "      <td>5</td>\n",
       "      <td>1</td>\n",
       "      <td>FN</td>\n",
       "    </tr>\n",
       "    <tr>\n",
       "      <th>47374</th>\n",
       "      <td>2002368192</td>\n",
       "      <td>{201364: 1}</td>\n",
       "      <td>274770</td>\n",
       "      <td>5</td>\n",
       "      <td>1</td>\n",
       "      <td>0.463913</td>\n",
       "      <td>5</td>\n",
       "      <td>1</td>\n",
       "      <td>FN</td>\n",
       "    </tr>\n",
       "  </tbody>\n",
       "</table>\n",
       "<p>47375 rows × 9 columns</p>\n",
       "</div>"
      ],
      "text/plain": [
       "          user_id                                             inputs  target  \\\n",
       "0            1533  {116345: 1, 32907: 1, 24136: 1, 35346: 1, 9662...   25844   \n",
       "1            1535  {50022: 1, 78834: 1, 47474: 1, 230720: 1, 1411...  116202   \n",
       "2            1634  {16512: 1, 158215: 1, 26212: 1, 168194: 0, 114...   22689   \n",
       "3            1676  {34233: 1, 99156: 1, 66799: 1, 166273: 1, 2506...  163276   \n",
       "4            1773                                           {278: 1}    7435   \n",
       "...           ...                                                ...     ...   \n",
       "47370  2002331093                                        {388066: 0}   79388   \n",
       "47371  2002346480                                        {332323: 0}  407995   \n",
       "47372  2002357452                                        {535852: 1}  535853   \n",
       "47373  2002357459                                        {535852: 1}  535853   \n",
       "47374  2002368192                                        {201364: 1}  274770   \n",
       "\n",
       "      rating liked  rec_score  rec_rating  rec_liked rec_classify  \n",
       "0          5     1   0.424122           5          1           FN  \n",
       "1          5     1   0.375867           5          1           FN  \n",
       "2          5     1   0.201213           4          1           FN  \n",
       "3          5     1   0.263398           5          1           FN  \n",
       "4          5     1   0.308414           5          1           FN  \n",
       "...      ...   ...        ...         ...        ...          ...  \n",
       "47370      5     1   0.574873           5          1           FN  \n",
       "47371      5     1   0.203107           4          1           FN  \n",
       "47372      1     0   0.329560           5          1           TN  \n",
       "47373      5     1   0.421892           5          1           FN  \n",
       "47374      5     1   0.463913           5          1           FN  \n",
       "\n",
       "[47375 rows x 9 columns]"
      ]
     },
     "execution_count": 139,
     "metadata": {},
     "output_type": "execute_result"
    }
   ],
   "source": [
    "data"
   ]
  },
  {
   "cell_type": "code",
   "execution_count": 86,
   "metadata": {},
   "outputs": [],
   "source": [
    "cumdist = (data.groupby('rating')['rating']\n",
    "               .count()\n",
    "               .sort_index()\n",
    "               .cumsum() \n",
    "           / len(data))"
   ]
  },
  {
   "cell_type": "code",
   "execution_count": 117,
   "metadata": {},
   "outputs": [],
   "source": [
    "new_rating = pd.qcut(data['rec_score'], q=[0.0] + list(cumdist.values), labels=list(cumdist.index)).astype(int)"
   ]
  },
  {
   "cell_type": "code",
   "execution_count": 162,
   "metadata": {},
   "outputs": [
    {
     "name": "stdout",
     "output_type": "stream",
     "text": [
      "test_inputs.csv\r\n"
     ]
    }
   ],
   "source": [
    "!ls '../../Fed_up/data/test'"
   ]
  }
 ],
 "metadata": {
  "kernelspec": {
   "display_name": "Python 3",
   "language": "python",
   "name": "python3"
  },
  "language_info": {
   "codemirror_mode": {
    "name": "ipython",
    "version": 3
   },
   "file_extension": ".py",
   "mimetype": "text/x-python",
   "name": "python",
   "nbconvert_exporter": "python",
   "pygments_lexer": "ipython3",
   "version": "3.7.7"
  },
  "toc": {
   "base_numbering": 1,
   "nav_menu": {},
   "number_sections": true,
   "sideBar": true,
   "skip_h1_title": false,
   "title_cell": "Table of Contents",
   "title_sidebar": "Contents",
   "toc_cell": false,
   "toc_position": {},
   "toc_section_display": true,
   "toc_window_display": false
  }
 },
 "nbformat": 4,
 "nbformat_minor": 4
}
