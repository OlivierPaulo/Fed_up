{
 "cells": [
  {
   "cell_type": "code",
   "execution_count": 1,
   "metadata": {},
   "outputs": [],
   "source": [
    "import numpy as np\n",
    "import pandas as pd\n",
    "import matplotlib.pyplot as plt\n",
    "import seaborn as sns"
   ]
  },
  {
   "cell_type": "markdown",
   "metadata": {},
   "source": [
    "# Loading Data"
   ]
  },
  {
   "cell_type": "code",
   "execution_count": 2,
   "metadata": {},
   "outputs": [
    {
     "name": "stdout",
     "output_type": "stream",
     "text": [
      "recipe_pp_20201117_1347.csv review_pp_20201117_1347.csv\r\n"
     ]
    }
   ],
   "source": [
    "!ls '../../Fed_up/data/preprocessed'"
   ]
  },
  {
   "cell_type": "code",
   "execution_count": 3,
   "metadata": {},
   "outputs": [],
   "source": [
    "reviews = pd.read_csv('../../Fed_up/data/preprocessed/review_pp_20201117_1347.csv')"
   ]
  },
  {
   "cell_type": "code",
   "execution_count": 4,
   "metadata": {},
   "outputs": [
    {
     "data": {
      "text/plain": [
       "901746"
      ]
     },
     "execution_count": 4,
     "metadata": {},
     "output_type": "execute_result"
    }
   ],
   "source": [
    "reviews.shape[0]"
   ]
  },
  {
   "cell_type": "code",
   "execution_count": 5,
   "metadata": {
    "scrolled": true
   },
   "outputs": [
    {
     "data": {
      "text/html": [
       "<div>\n",
       "<style scoped>\n",
       "    .dataframe tbody tr th:only-of-type {\n",
       "        vertical-align: middle;\n",
       "    }\n",
       "\n",
       "    .dataframe tbody tr th {\n",
       "        vertical-align: top;\n",
       "    }\n",
       "\n",
       "    .dataframe thead th {\n",
       "        text-align: right;\n",
       "    }\n",
       "</style>\n",
       "<table border=\"1\" class=\"dataframe\">\n",
       "  <thead>\n",
       "    <tr style=\"text-align: right;\">\n",
       "      <th></th>\n",
       "      <th>recipe_id</th>\n",
       "      <th>user_id</th>\n",
       "      <th>rating</th>\n",
       "      <th>liked</th>\n",
       "      <th>review</th>\n",
       "      <th>date</th>\n",
       "    </tr>\n",
       "  </thead>\n",
       "  <tbody>\n",
       "    <tr>\n",
       "      <th>0</th>\n",
       "      <td>120345</td>\n",
       "      <td>52282</td>\n",
       "      <td>4</td>\n",
       "      <td>1</td>\n",
       "      <td>very very sweet. after i waited the 2 days i b...</td>\n",
       "      <td>2005-05-21</td>\n",
       "    </tr>\n",
       "    <tr>\n",
       "      <th>1</th>\n",
       "      <td>120345</td>\n",
       "      <td>124416</td>\n",
       "      <td>0</td>\n",
       "      <td>0</td>\n",
       "      <td>Just an observation, so I will not rate.  I fo...</td>\n",
       "      <td>2011-08-06</td>\n",
       "    </tr>\n",
       "    <tr>\n",
       "      <th>2</th>\n",
       "      <td>120345</td>\n",
       "      <td>2000192946</td>\n",
       "      <td>2</td>\n",
       "      <td>0</td>\n",
       "      <td>This recipe was OVERLY too sweet.  I would sta...</td>\n",
       "      <td>2015-05-10</td>\n",
       "    </tr>\n",
       "    <tr>\n",
       "      <th>3</th>\n",
       "      <td>134728</td>\n",
       "      <td>76535</td>\n",
       "      <td>4</td>\n",
       "      <td>1</td>\n",
       "      <td>Very good!</td>\n",
       "      <td>2005-09-02</td>\n",
       "    </tr>\n",
       "    <tr>\n",
       "      <th>4</th>\n",
       "      <td>134728</td>\n",
       "      <td>273745</td>\n",
       "      <td>5</td>\n",
       "      <td>1</td>\n",
       "      <td>Better than the real!!</td>\n",
       "      <td>2005-12-22</td>\n",
       "    </tr>\n",
       "  </tbody>\n",
       "</table>\n",
       "</div>"
      ],
      "text/plain": [
       "   recipe_id     user_id  rating  liked  \\\n",
       "0     120345       52282       4      1   \n",
       "1     120345      124416       0      0   \n",
       "2     120345  2000192946       2      0   \n",
       "3     134728       76535       4      1   \n",
       "4     134728      273745       5      1   \n",
       "\n",
       "                                              review        date  \n",
       "0  very very sweet. after i waited the 2 days i b...  2005-05-21  \n",
       "1  Just an observation, so I will not rate.  I fo...  2011-08-06  \n",
       "2  This recipe was OVERLY too sweet.  I would sta...  2015-05-10  \n",
       "3                                         Very good!  2005-09-02  \n",
       "4                             Better than the real!!  2005-12-22  "
      ]
     },
     "execution_count": 5,
     "metadata": {},
     "output_type": "execute_result"
    }
   ],
   "source": [
    "reviews.head()"
   ]
  },
  {
   "cell_type": "code",
   "execution_count": 6,
   "metadata": {},
   "outputs": [],
   "source": [
    "reviews = reviews[reviews['rating'] > 0]"
   ]
  },
  {
   "cell_type": "code",
   "execution_count": 18,
   "metadata": {
    "scrolled": true
   },
   "outputs": [
    {
     "data": {
      "text/plain": [
       "(array([ 10117.,      0.,  11010.,      0.,  31817.,      0.,      0.,\n",
       "        147988.,      0., 652127.]),\n",
       " array([0.2 , 0.28, 0.36, 0.44, 0.52, 0.6 , 0.68, 0.76, 0.84, 0.92, 1.  ]),\n",
       " <BarContainer object of 10 artists>)"
      ]
     },
     "execution_count": 18,
     "metadata": {},
     "output_type": "execute_result"
    },
    {
     "data": {
      "image/png": "[encoded data removed]",
      "text/plain": [
       "<Figure size 432x288 with 1 Axes>"
      ]
     },
     "metadata": {
      "needs_background": "light"
     },
     "output_type": "display_data"
    }
   ],
   "source": [
    "plt.hist(reviews['rating'] / 5)"
   ]
  },
  {
   "cell_type": "markdown",
   "metadata": {},
   "source": [
    "# Train/Test Split"
   ]
  },
  {
   "cell_type": "code",
   "execution_count": 14,
   "metadata": {},
   "outputs": [],
   "source": [
    "def generate_test_data(filepath, min_reviews=2):\n",
    "    \n",
    "    # Fetching the review dataframe\n",
    "    print(\"Fetching the review dataframe...\")\n",
    "    data = pd.read_csv(filepath)\n",
    "    \n",
    "    # Creating user / reviews dict\n",
    "    print(\"Creating user and reviews dict...\")\n",
    "    user_reviews = data.groupby('user_id') \\\n",
    "                       .agg({'recipe_id': (lambda x: list(x)), 'liked': (lambda x: list(x))}) \\\n",
    "                       .reset_index()\n",
    "            \n",
    "    # Selecting only users with at least min_reviews (2 by default)\n",
    "    print(f\"Selecting only users with at least {min_reviews} reviews...\")\n",
    "    selected_user_reviews = user_reviews[user_reviews['recipe_id'].str.len() >= min_reviews]\n",
    "    \n",
    "    print(\"Create and filling evaluation dataframe...\")\n",
    "    \n",
    "    # Create evaluation dataframe\n",
    "    test_df = pd.DataFrame(columns=['user_id', 'inputs', 'target', 'rating', 'liked'])\n",
    "    \n",
    "    # Filling in the evaluation dataframe\n",
    "    for index, row in selected_user_reviews.iterrows():\n",
    "        user = row['user_id']\n",
    "        target = row['recipe_id'][-1]\n",
    "        liked = row['liked'][-1]\n",
    "        rating = data.loc[target, 'rating']\n",
    "        inputs = {row['recipe_id'][i]: row['liked'][i] for i in range(len(row['recipe_id']) - 1)}\n",
    "\n",
    "        new_row = {'user_id': user, 'inputs': inputs, 'target': target, 'rating': rating, 'liked': liked}\n",
    "        test_df = test_df.append(new_row, ignore_index=True)\n",
    "        \n",
    "    return test_df"
   ]
  },
  {
   "cell_type": "code",
   "execution_count": 15,
   "metadata": {},
   "outputs": [
    {
     "name": "stdout",
     "output_type": "stream",
     "text": [
      "Fetching the review dataframe...\n",
      "Creating user and reviews dict...\n",
      "Selecting only users with at least 2 reviews...\n",
      "Create and filling evaluation dataframe...\n"
     ]
    }
   ],
   "source": [
    "data = generate_test_data('../../Fed_up/data/preprocessed/review_pp_20201117_1347.csv', min_reviews=2)"
   ]
  },
  {
   "cell_type": "code",
   "execution_count": 19,
   "metadata": {},
   "outputs": [
    {
     "data": {
      "text/html": [
       "<div>\n",
       "<style scoped>\n",
       "    .dataframe tbody tr th:only-of-type {\n",
       "        vertical-align: middle;\n",
       "    }\n",
       "\n",
       "    .dataframe tbody tr th {\n",
       "        vertical-align: top;\n",
       "    }\n",
       "\n",
       "    .dataframe thead th {\n",
       "        text-align: right;\n",
       "    }\n",
       "</style>\n",
       "<table border=\"1\" class=\"dataframe\">\n",
       "  <thead>\n",
       "    <tr style=\"text-align: right;\">\n",
       "      <th></th>\n",
       "      <th>user_id</th>\n",
       "      <th>inputs</th>\n",
       "      <th>target</th>\n",
       "      <th>rating</th>\n",
       "      <th>liked</th>\n",
       "    </tr>\n",
       "  </thead>\n",
       "  <tbody>\n",
       "    <tr>\n",
       "      <th>0</th>\n",
       "      <td>1533</td>\n",
       "      <td>{116345: 1, 32907: 1, 24136: 1, 35346: 1, 9662...</td>\n",
       "      <td>25844</td>\n",
       "      <td>4</td>\n",
       "      <td>1</td>\n",
       "    </tr>\n",
       "    <tr>\n",
       "      <th>1</th>\n",
       "      <td>1535</td>\n",
       "      <td>{50022: 1, 78834: 1, 47474: 1, 230720: 1, 1411...</td>\n",
       "      <td>116202</td>\n",
       "      <td>5</td>\n",
       "      <td>1</td>\n",
       "    </tr>\n",
       "    <tr>\n",
       "      <th>2</th>\n",
       "      <td>1634</td>\n",
       "      <td>{16512: 1, 158215: 1, 26212: 1, 168194: 0, 114...</td>\n",
       "      <td>28851</td>\n",
       "      <td>5</td>\n",
       "      <td>0</td>\n",
       "    </tr>\n",
       "    <tr>\n",
       "      <th>3</th>\n",
       "      <td>1676</td>\n",
       "      <td>{34233: 1, 99156: 1, 66799: 1, 166273: 1, 2506...</td>\n",
       "      <td>163276</td>\n",
       "      <td>5</td>\n",
       "      <td>1</td>\n",
       "    </tr>\n",
       "    <tr>\n",
       "      <th>4</th>\n",
       "      <td>1773</td>\n",
       "      <td>{278: 1}</td>\n",
       "      <td>7435</td>\n",
       "      <td>5</td>\n",
       "      <td>1</td>\n",
       "    </tr>\n",
       "  </tbody>\n",
       "</table>\n",
       "</div>"
      ],
      "text/plain": [
       "  user_id                                             inputs  target rating  \\\n",
       "0    1533  {116345: 1, 32907: 1, 24136: 1, 35346: 1, 9662...   25844      4   \n",
       "1    1535  {50022: 1, 78834: 1, 47474: 1, 230720: 1, 1411...  116202      5   \n",
       "2    1634  {16512: 1, 158215: 1, 26212: 1, 168194: 0, 114...   28851      5   \n",
       "3    1676  {34233: 1, 99156: 1, 66799: 1, 166273: 1, 2506...  163276      5   \n",
       "4    1773                                           {278: 1}    7435      5   \n",
       "\n",
       "  liked  \n",
       "0     1  \n",
       "1     1  \n",
       "2     0  \n",
       "3     1  \n",
       "4     1  "
      ]
     },
     "execution_count": 19,
     "metadata": {},
     "output_type": "execute_result"
    }
   ],
   "source": [
    "data.head()"
   ]
  },
  {
   "cell_type": "code",
   "execution_count": 20,
   "metadata": {},
   "outputs": [],
   "source": [
    "from scipy.stats import lognorm\n",
    "\n",
    "def run_test(data, test=True):\n",
    "    \n",
    "    if test:\n",
    "        ln = lognorm.rvs(0.2, size=data.shape[0])\n",
    "        predictions = (ln - ln.min()) / (ln.max() - ln.min())\n",
    "        \n",
    "    data['rec_score'] = predictions\n",
    "    data['rec_rating'] = np.round(1 + data['rec_score'] * 4).astype(int)\n",
    "    data['rec_liked'] = 0\n",
    "    data['rec_classify'] = ''\n",
    "    \n",
    "    for index, row in data.iterrows():\n",
    "        actual = data.loc[index, 'liked']\n",
    "        predict = data.loc[index, 'rec_liked']\n",
    "        \n",
    "        if data.loc[index, 'rec_rating'] >= 4:\n",
    "            data.loc[index, 'rec_liked'] = 1\n",
    "            \n",
    "        if predict == 1 and actual == 1:\n",
    "            data.loc[index, 'rec_classify'] = 'TP'\n",
    "        elif predict == 1 and actual == 0:\n",
    "            data.loc[index, 'rec_classify'] = 'FP'\n",
    "        elif predict == 0 and actual == 0:\n",
    "            data.loc[index, 'rec_classify'] = 'TN'\n",
    "        elif predict == 0 and actual == 1: \n",
    "            data.loc[index, 'rec_classify'] = 'FN'\n",
    "    \n",
    "    return data"
   ]
  },
  {
   "cell_type": "code",
   "execution_count": 21,
   "metadata": {},
   "outputs": [],
   "source": [
    "test_data = run_test(data)"
   ]
  },
  {
   "cell_type": "code",
   "execution_count": 22,
   "metadata": {},
   "outputs": [
    {
     "data": {
      "text/html": [
       "<div>\n",
       "<style scoped>\n",
       "    .dataframe tbody tr th:only-of-type {\n",
       "        vertical-align: middle;\n",
       "    }\n",
       "\n",
       "    .dataframe tbody tr th {\n",
       "        vertical-align: top;\n",
       "    }\n",
       "\n",
       "    .dataframe thead th {\n",
       "        text-align: right;\n",
       "    }\n",
       "</style>\n",
       "<table border=\"1\" class=\"dataframe\">\n",
       "  <thead>\n",
       "    <tr style=\"text-align: right;\">\n",
       "      <th></th>\n",
       "      <th>user_id</th>\n",
       "      <th>inputs</th>\n",
       "      <th>target</th>\n",
       "      <th>rating</th>\n",
       "      <th>liked</th>\n",
       "      <th>rec_score</th>\n",
       "      <th>rec_rating</th>\n",
       "      <th>rec_liked</th>\n",
       "      <th>rec_classify</th>\n",
       "    </tr>\n",
       "  </thead>\n",
       "  <tbody>\n",
       "    <tr>\n",
       "      <th>3366</th>\n",
       "      <td>65197</td>\n",
       "      <td>{160882: 1, 139213: 1, 129925: 1, 230965: 1, 8...</td>\n",
       "      <td>196735</td>\n",
       "      <td>5</td>\n",
       "      <td>1</td>\n",
       "      <td>0.221830</td>\n",
       "      <td>2</td>\n",
       "      <td>0</td>\n",
       "      <td>FN</td>\n",
       "    </tr>\n",
       "    <tr>\n",
       "      <th>49888</th>\n",
       "      <td>2001449971</td>\n",
       "      <td>{88804: 0, 456482: 1, 148007: 1}</td>\n",
       "      <td>116996</td>\n",
       "      <td>5</td>\n",
       "      <td>1</td>\n",
       "      <td>0.274011</td>\n",
       "      <td>2</td>\n",
       "      <td>0</td>\n",
       "      <td>FN</td>\n",
       "    </tr>\n",
       "    <tr>\n",
       "      <th>46023</th>\n",
       "      <td>2562448</td>\n",
       "      <td>{155580: 1, 424939: 1, 128956: 1, 35027: 1}</td>\n",
       "      <td>43072</td>\n",
       "      <td>2</td>\n",
       "      <td>1</td>\n",
       "      <td>0.430576</td>\n",
       "      <td>3</td>\n",
       "      <td>0</td>\n",
       "      <td>FN</td>\n",
       "    </tr>\n",
       "    <tr>\n",
       "      <th>29365</th>\n",
       "      <td>739451</td>\n",
       "      <td>{281048: 0, 8424: 1, 32614: 1}</td>\n",
       "      <td>75009</td>\n",
       "      <td>5</td>\n",
       "      <td>1</td>\n",
       "      <td>0.287315</td>\n",
       "      <td>2</td>\n",
       "      <td>0</td>\n",
       "      <td>FN</td>\n",
       "    </tr>\n",
       "    <tr>\n",
       "      <th>40177</th>\n",
       "      <td>1437503</td>\n",
       "      <td>{172372: 0}</td>\n",
       "      <td>346546</td>\n",
       "      <td>0</td>\n",
       "      <td>0</td>\n",
       "      <td>0.418800</td>\n",
       "      <td>3</td>\n",
       "      <td>0</td>\n",
       "      <td>TN</td>\n",
       "    </tr>\n",
       "    <tr>\n",
       "      <th>7691</th>\n",
       "      <td>148332</td>\n",
       "      <td>{51213: 0, 66229: 1}</td>\n",
       "      <td>123793</td>\n",
       "      <td>4</td>\n",
       "      <td>1</td>\n",
       "      <td>0.473088</td>\n",
       "      <td>3</td>\n",
       "      <td>0</td>\n",
       "      <td>FN</td>\n",
       "    </tr>\n",
       "    <tr>\n",
       "      <th>50139</th>\n",
       "      <td>2001615771</td>\n",
       "      <td>{232042: 1, 152454: 1}</td>\n",
       "      <td>133718</td>\n",
       "      <td>1</td>\n",
       "      <td>1</td>\n",
       "      <td>0.275030</td>\n",
       "      <td>2</td>\n",
       "      <td>0</td>\n",
       "      <td>FN</td>\n",
       "    </tr>\n",
       "    <tr>\n",
       "      <th>43915</th>\n",
       "      <td>1906339</td>\n",
       "      <td>{54257: 1, 141983: 0}</td>\n",
       "      <td>363808</td>\n",
       "      <td>5</td>\n",
       "      <td>1</td>\n",
       "      <td>0.362453</td>\n",
       "      <td>2</td>\n",
       "      <td>0</td>\n",
       "      <td>FN</td>\n",
       "    </tr>\n",
       "    <tr>\n",
       "      <th>42442</th>\n",
       "      <td>1662860</td>\n",
       "      <td>{105912: 1}</td>\n",
       "      <td>51104</td>\n",
       "      <td>3</td>\n",
       "      <td>1</td>\n",
       "      <td>0.272228</td>\n",
       "      <td>2</td>\n",
       "      <td>0</td>\n",
       "      <td>FN</td>\n",
       "    </tr>\n",
       "    <tr>\n",
       "      <th>8696</th>\n",
       "      <td>168462</td>\n",
       "      <td>{170922: 1, 57363: 1, 14111: 1, 88290: 1, 2912...</td>\n",
       "      <td>308241</td>\n",
       "      <td>5</td>\n",
       "      <td>1</td>\n",
       "      <td>0.374830</td>\n",
       "      <td>2</td>\n",
       "      <td>0</td>\n",
       "      <td>FN</td>\n",
       "    </tr>\n",
       "  </tbody>\n",
       "</table>\n",
       "</div>"
      ],
      "text/plain": [
       "          user_id                                             inputs  target  \\\n",
       "3366        65197  {160882: 1, 139213: 1, 129925: 1, 230965: 1, 8...  196735   \n",
       "49888  2001449971                   {88804: 0, 456482: 1, 148007: 1}  116996   \n",
       "46023     2562448        {155580: 1, 424939: 1, 128956: 1, 35027: 1}   43072   \n",
       "29365      739451                     {281048: 0, 8424: 1, 32614: 1}   75009   \n",
       "40177     1437503                                        {172372: 0}  346546   \n",
       "7691       148332                               {51213: 0, 66229: 1}  123793   \n",
       "50139  2001615771                             {232042: 1, 152454: 1}  133718   \n",
       "43915     1906339                              {54257: 1, 141983: 0}  363808   \n",
       "42442     1662860                                        {105912: 1}   51104   \n",
       "8696       168462  {170922: 1, 57363: 1, 14111: 1, 88290: 1, 2912...  308241   \n",
       "\n",
       "      rating liked  rec_score  rec_rating  rec_liked rec_classify  \n",
       "3366       5     1   0.221830           2          0           FN  \n",
       "49888      5     1   0.274011           2          0           FN  \n",
       "46023      2     1   0.430576           3          0           FN  \n",
       "29365      5     1   0.287315           2          0           FN  \n",
       "40177      0     0   0.418800           3          0           TN  \n",
       "7691       4     1   0.473088           3          0           FN  \n",
       "50139      1     1   0.275030           2          0           FN  \n",
       "43915      5     1   0.362453           2          0           FN  \n",
       "42442      3     1   0.272228           2          0           FN  \n",
       "8696       5     1   0.374830           2          0           FN  "
      ]
     },
     "execution_count": 22,
     "metadata": {},
     "output_type": "execute_result"
    }
   ],
   "source": [
    "test_data.sample(10)"
   ]
  },
  {
   "cell_type": "markdown",
   "metadata": {},
   "source": [
    "# Rating"
   ]
  },
  {
   "cell_type": "markdown",
   "metadata": {},
   "source": [
    "## MAE"
   ]
  },
  {
   "cell_type": "code",
   "execution_count": 60,
   "metadata": {},
   "outputs": [],
   "source": [
    "def rating_mae(data):\n",
    "    data['rating_lin'] = (data['rating'] - 1) / 4\n",
    "    mae = np.mean(np.abs(data['rating_lin'] - data['rec_score']))\n",
    "    return np.round(mae, 3)"
   ]
  },
  {
   "cell_type": "markdown",
   "metadata": {},
   "source": [
    "## Large Error %"
   ]
  },
  {
   "cell_type": "code",
   "execution_count": 61,
   "metadata": {},
   "outputs": [],
   "source": [
    "def rating_le(data, dif_threshold=0.25):\n",
    "    data['rating_lin'] = (data['rating'] - 1) / 4\n",
    "    le = [1 if (data.loc[index, 'rating_lin'] - data.loc[index, 'rec_score']) >= dif_threshold else 0 for index, row in data.iterrows()]\n",
    "    return np.round(sum(le) / len(le), 3)"
   ]
  },
  {
   "cell_type": "markdown",
   "metadata": {},
   "source": [
    "# Like Classification"
   ]
  },
  {
   "cell_type": "markdown",
   "metadata": {},
   "source": [
    "## Like Accuracy"
   ]
  },
  {
   "cell_type": "code",
   "execution_count": 62,
   "metadata": {},
   "outputs": [],
   "source": [
    "def like_accuracy(data):\n",
    "    counts = data['rec_classify'].value_counts()\n",
    "    num = counts.get('TP', 0) + counts.get('TN', 0)\n",
    "    den = counts.sum()\n",
    "    \n",
    "    if den > 0:                              \n",
    "        return np.round(num/den, 3)\n",
    "    return 0.0"
   ]
  },
  {
   "cell_type": "markdown",
   "metadata": {},
   "source": [
    "## Like Precision"
   ]
  },
  {
   "cell_type": "code",
   "execution_count": 63,
   "metadata": {},
   "outputs": [],
   "source": [
    "def like_precision(data):\n",
    "    counts = data['rec_classify'].value_counts()\n",
    "    num = counts.get('TP', 0)\n",
    "    den = counts.get('TP', 0) + counts.get('FP', 0)\n",
    "    \n",
    "    if den > 0:                              \n",
    "        return np.round(num/den, 3)\n",
    "    return 0.0"
   ]
  },
  {
   "cell_type": "markdown",
   "metadata": {},
   "source": [
    "## Like Recall"
   ]
  },
  {
   "cell_type": "code",
   "execution_count": 64,
   "metadata": {},
   "outputs": [],
   "source": [
    "def like_recall(data):\n",
    "    counts = data['rec_classify'].value_counts()\n",
    "    num = counts.get('TP', 0)\n",
    "    den = counts.get('TP', 0) + counts.get('FN', 0)\n",
    "    \n",
    "    if den > 0:                              \n",
    "        return np.round(num/den, 3)\n",
    "    return 0.0"
   ]
  },
  {
   "cell_type": "markdown",
   "metadata": {},
   "source": [
    "## Like F1"
   ]
  },
  {
   "cell_type": "code",
   "execution_count": 65,
   "metadata": {},
   "outputs": [],
   "source": [
    "def like_f1(data):\n",
    "    counts = data['rec_classify'].value_counts()\n",
    "    num = 2 * counts.get('TP', 0)\n",
    "    den = 2 * counts.get('TP', 0) + counts.get('FN', 0) + counts.get('FP', 0)\n",
    "    \n",
    "    if den > 0:                              \n",
    "        return np.round(num/den, 3)\n",
    "    return 0.0"
   ]
  },
  {
   "cell_type": "markdown",
   "metadata": {},
   "source": [
    "# Get Scoring Metrics"
   ]
  },
  {
   "cell_type": "code",
   "execution_count": 66,
   "metadata": {},
   "outputs": [],
   "source": [
    "def get_scoring_metrics(data, sample=None, le_dif_threshold=0.25):\n",
    "    \n",
    "    if sample is None:\n",
    "        tdata = data.copy()\n",
    "    else:\n",
    "        tdata = data.copy().sample(sample)\n",
    "        \n",
    "    return {'rating_mae': rating_mae(tdata),\n",
    "            'rating_le': rating_le(tdata, dif_threshold=le_dif_threshold),\n",
    "            'like_accuracy': like_accuracy(tdata),\n",
    "            'like_precision': like_precision(tdata),\n",
    "            'like_recall': like_recall(tdata),\n",
    "            'like_f1': like_f1(tdata)}"
   ]
  },
  {
   "cell_type": "code",
   "execution_count": 67,
   "metadata": {},
   "outputs": [
    {
     "data": {
      "text/plain": [
       "{'rating_mae': 0.617,\n",
       " 'rating_le': 0.894,\n",
       " 'like_accuracy': 0.14,\n",
       " 'like_precision': 0.0,\n",
       " 'like_recall': 0.0,\n",
       " 'like_f1': 0.0}"
      ]
     },
     "execution_count": 67,
     "metadata": {},
     "output_type": "execute_result"
    }
   ],
   "source": [
    "get_scoring_metrics(test_data)"
   ]
  }
 ],
 "metadata": {
  "kernelspec": {
   "display_name": "Python 3",
   "language": "python",
   "name": "python3"
  },
  "language_info": {
   "codemirror_mode": {
    "name": "ipython",
    "version": 3
   },
   "file_extension": ".py",
   "mimetype": "text/x-python",
   "name": "python",
   "nbconvert_exporter": "python",
   "pygments_lexer": "ipython3",
   "version": "3.7.7"
  },
  "toc": {
   "base_numbering": 1,
   "nav_menu": {},
   "number_sections": true,
   "sideBar": true,
   "skip_h1_title": false,
   "title_cell": "Table of Contents",
   "title_sidebar": "Contents",
   "toc_cell": false,
   "toc_position": {},
   "toc_section_display": true,
   "toc_window_display": false
  }
 },
 "nbformat": 4,
 "nbformat_minor": 4
}
