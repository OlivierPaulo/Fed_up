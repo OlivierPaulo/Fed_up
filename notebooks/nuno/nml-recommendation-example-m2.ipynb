{
 "cells": [
  {
   "cell_type": "code",
   "execution_count": 1,
   "metadata": {},
   "outputs": [],
   "source": [
    "import numpy as np\n",
    "import pandas as pd\n",
    "import matplotlib.pyplot as plt\n",
    "import seaborn as sns"
   ]
  },
  {
   "cell_type": "code",
   "execution_count": 2,
   "metadata": {},
   "outputs": [],
   "source": [
    "basic_path = '../../Fed_up/data'"
   ]
  },
  {
   "cell_type": "code",
   "execution_count": 3,
   "metadata": {},
   "outputs": [],
   "source": [
    "recipes = pd.read_csv(f\"{basic_path}/preprocessed/recipe_pp.csv\")"
   ]
  },
  {
   "cell_type": "code",
   "execution_count": 4,
   "metadata": {},
   "outputs": [],
   "source": [
    "test_data = pd.read_csv(f\"{basic_path}/test/test_inputs.csv\")"
   ]
  },
  {
   "cell_type": "code",
   "execution_count": 5,
   "metadata": {},
   "outputs": [
    {
     "data": {
      "text/plain": [
       "(28861, 5)"
      ]
     },
     "execution_count": 5,
     "metadata": {},
     "output_type": "execute_result"
    }
   ],
   "source": [
    "test_data.shape"
   ]
  },
  {
   "cell_type": "code",
   "execution_count": 6,
   "metadata": {
    "scrolled": true
   },
   "outputs": [],
   "source": [
    "from Fed_up.model import get_user_recommendations\n",
    "from Fed_up.test import run_recommendations"
   ]
  },
  {
   "cell_type": "code",
   "execution_count": 7,
   "metadata": {
    "scrolled": true
   },
   "outputs": [
    {
     "name": "stdout",
     "output_type": "stream",
     "text": [
      "  recipe_id                               name liked\n",
      "0     16741             aunt bee s lentil soup     1\n",
      "1     10744          delicious chicken pot pie     1\n",
      "2     16575  just the best barbecue sauce ever     0\n",
      "3     22782   jo mama s world famous spaghetti     1\n",
      "4    107997       4 minute spicy garlic shrimp     1\n",
      "5    212500               mushroom noodle soup     1\n",
      "6    208930             mary s chiles rellenos     1\n",
      "   recipe_id                                               name   content  \\\n",
      "0     230744               chiles rellenos   tucson s el charro  2.042289   \n",
      "1      35309                       restaurant vegan tofu burger  1.282144   \n",
      "2     222782                             chicken rice casserole  1.655037   \n",
      "3     348692          george s oven fried chicken by judy  jude  2.104271   \n",
      "4     407613                              christine s hot wings  1.355501   \n",
      "5     129699  mrs  walker s chicken and rice casserole from ...  2.153498   \n",
      "6      86016                      salt and pepper crusted steak  1.350505   \n",
      "7     328770                               colorful potato soup  2.253087   \n",
      "8     291593                    yum yum goody chicken casserole  2.245831   \n",
      "9      17028      cornish game hens with pineapple pepper sauce  1.274071   \n",
      "\n",
      "   collaborative    hybrid  rec_score  \n",
      "0       0.717338  1.379813      1.000  \n",
      "1       1.327017  1.304580      0.938  \n",
      "2       0.717338  1.186188      0.840  \n",
      "3       0.213274  1.158773      0.817  \n",
      "4       0.952588  1.154044      0.813  \n",
      "5       0.095493  1.124496      0.789  \n",
      "6       0.895274  1.122889      0.788  \n",
      "7      -0.012482  1.120303      0.785  \n",
      "8      -0.009394  1.118219      0.784  \n",
      "9       0.951944  1.113007      0.779  \n"
     ]
    }
   ],
   "source": [
    "input_df, output_df = run_recommendations(user_id=235291, collaborative=0.5)"
   ]
  },
  {
   "cell_type": "code",
   "execution_count": 8,
   "metadata": {},
   "outputs": [
    {
     "data": {
      "text/html": [
       "<div>\n",
       "<style scoped>\n",
       "    .dataframe tbody tr th:only-of-type {\n",
       "        vertical-align: middle;\n",
       "    }\n",
       "\n",
       "    .dataframe tbody tr th {\n",
       "        vertical-align: top;\n",
       "    }\n",
       "\n",
       "    .dataframe thead th {\n",
       "        text-align: right;\n",
       "    }\n",
       "</style>\n",
       "<table border=\"1\" class=\"dataframe\">\n",
       "  <thead>\n",
       "    <tr style=\"text-align: right;\">\n",
       "      <th></th>\n",
       "      <th>recipe_id</th>\n",
       "      <th>name</th>\n",
       "      <th>liked</th>\n",
       "    </tr>\n",
       "  </thead>\n",
       "  <tbody>\n",
       "    <tr>\n",
       "      <th>0</th>\n",
       "      <td>16741</td>\n",
       "      <td>aunt bee s lentil soup</td>\n",
       "      <td>1</td>\n",
       "    </tr>\n",
       "    <tr>\n",
       "      <th>1</th>\n",
       "      <td>10744</td>\n",
       "      <td>delicious chicken pot pie</td>\n",
       "      <td>1</td>\n",
       "    </tr>\n",
       "    <tr>\n",
       "      <th>2</th>\n",
       "      <td>16575</td>\n",
       "      <td>just the best barbecue sauce ever</td>\n",
       "      <td>0</td>\n",
       "    </tr>\n",
       "    <tr>\n",
       "      <th>3</th>\n",
       "      <td>22782</td>\n",
       "      <td>jo mama s world famous spaghetti</td>\n",
       "      <td>1</td>\n",
       "    </tr>\n",
       "    <tr>\n",
       "      <th>4</th>\n",
       "      <td>107997</td>\n",
       "      <td>4 minute spicy garlic shrimp</td>\n",
       "      <td>1</td>\n",
       "    </tr>\n",
       "    <tr>\n",
       "      <th>5</th>\n",
       "      <td>212500</td>\n",
       "      <td>mushroom noodle soup</td>\n",
       "      <td>1</td>\n",
       "    </tr>\n",
       "    <tr>\n",
       "      <th>6</th>\n",
       "      <td>208930</td>\n",
       "      <td>mary s chiles rellenos</td>\n",
       "      <td>1</td>\n",
       "    </tr>\n",
       "  </tbody>\n",
       "</table>\n",
       "</div>"
      ],
      "text/plain": [
       "  recipe_id                               name liked\n",
       "0     16741             aunt bee s lentil soup     1\n",
       "1     10744          delicious chicken pot pie     1\n",
       "2     16575  just the best barbecue sauce ever     0\n",
       "3     22782   jo mama s world famous spaghetti     1\n",
       "4    107997       4 minute spicy garlic shrimp     1\n",
       "5    212500               mushroom noodle soup     1\n",
       "6    208930             mary s chiles rellenos     1"
      ]
     },
     "execution_count": 8,
     "metadata": {},
     "output_type": "execute_result"
    }
   ],
   "source": [
    "input_df"
   ]
  },
  {
   "cell_type": "code",
   "execution_count": 9,
   "metadata": {},
   "outputs": [
    {
     "data": {
      "text/html": [
       "<div>\n",
       "<style scoped>\n",
       "    .dataframe tbody tr th:only-of-type {\n",
       "        vertical-align: middle;\n",
       "    }\n",
       "\n",
       "    .dataframe tbody tr th {\n",
       "        vertical-align: top;\n",
       "    }\n",
       "\n",
       "    .dataframe thead th {\n",
       "        text-align: right;\n",
       "    }\n",
       "</style>\n",
       "<table border=\"1\" class=\"dataframe\">\n",
       "  <thead>\n",
       "    <tr style=\"text-align: right;\">\n",
       "      <th></th>\n",
       "      <th>recipe_id</th>\n",
       "      <th>name</th>\n",
       "      <th>content</th>\n",
       "      <th>collaborative</th>\n",
       "      <th>hybrid</th>\n",
       "      <th>rec_score</th>\n",
       "    </tr>\n",
       "  </thead>\n",
       "  <tbody>\n",
       "    <tr>\n",
       "      <th>0</th>\n",
       "      <td>230744</td>\n",
       "      <td>chiles rellenos   tucson s el charro</td>\n",
       "      <td>2.042289</td>\n",
       "      <td>0.717338</td>\n",
       "      <td>1.379813</td>\n",
       "      <td>1.000</td>\n",
       "    </tr>\n",
       "    <tr>\n",
       "      <th>1</th>\n",
       "      <td>35309</td>\n",
       "      <td>restaurant vegan tofu burger</td>\n",
       "      <td>1.282144</td>\n",
       "      <td>1.327017</td>\n",
       "      <td>1.304580</td>\n",
       "      <td>0.938</td>\n",
       "    </tr>\n",
       "    <tr>\n",
       "      <th>2</th>\n",
       "      <td>222782</td>\n",
       "      <td>chicken rice casserole</td>\n",
       "      <td>1.655037</td>\n",
       "      <td>0.717338</td>\n",
       "      <td>1.186188</td>\n",
       "      <td>0.840</td>\n",
       "    </tr>\n",
       "    <tr>\n",
       "      <th>3</th>\n",
       "      <td>348692</td>\n",
       "      <td>george s oven fried chicken by judy  jude</td>\n",
       "      <td>2.104271</td>\n",
       "      <td>0.213274</td>\n",
       "      <td>1.158773</td>\n",
       "      <td>0.817</td>\n",
       "    </tr>\n",
       "    <tr>\n",
       "      <th>4</th>\n",
       "      <td>407613</td>\n",
       "      <td>christine s hot wings</td>\n",
       "      <td>1.355501</td>\n",
       "      <td>0.952588</td>\n",
       "      <td>1.154044</td>\n",
       "      <td>0.813</td>\n",
       "    </tr>\n",
       "    <tr>\n",
       "      <th>...</th>\n",
       "      <td>...</td>\n",
       "      <td>...</td>\n",
       "      <td>...</td>\n",
       "      <td>...</td>\n",
       "      <td>...</td>\n",
       "      <td>...</td>\n",
       "    </tr>\n",
       "    <tr>\n",
       "      <th>1995</th>\n",
       "      <td>283013</td>\n",
       "      <td>strawberry spinach salad w raspberry key lime ...</td>\n",
       "      <td>0.495095</td>\n",
       "      <td>0.027220</td>\n",
       "      <td>0.261158</td>\n",
       "      <td>0.075</td>\n",
       "    </tr>\n",
       "    <tr>\n",
       "      <th>1996</th>\n",
       "      <td>381197</td>\n",
       "      <td>coconut lime evening milk for grown ups</td>\n",
       "      <td>0.522583</td>\n",
       "      <td>-0.000493</td>\n",
       "      <td>0.261045</td>\n",
       "      <td>0.075</td>\n",
       "    </tr>\n",
       "    <tr>\n",
       "      <th>1997</th>\n",
       "      <td>423398</td>\n",
       "      <td>nutella pastry puffs   puff pastry with nutell...</td>\n",
       "      <td>0.411043</td>\n",
       "      <td>0.005891</td>\n",
       "      <td>0.208467</td>\n",
       "      <td>0.031</td>\n",
       "    </tr>\n",
       "    <tr>\n",
       "      <th>1998</th>\n",
       "      <td>272062</td>\n",
       "      <td>easy popcorn balls</td>\n",
       "      <td>0.342564</td>\n",
       "      <td>0.018243</td>\n",
       "      <td>0.180403</td>\n",
       "      <td>0.008</td>\n",
       "    </tr>\n",
       "    <tr>\n",
       "      <th>1999</th>\n",
       "      <td>47395</td>\n",
       "      <td>bbq sauce  low fat</td>\n",
       "      <td>1.041970</td>\n",
       "      <td>-0.700572</td>\n",
       "      <td>0.170699</td>\n",
       "      <td>0.000</td>\n",
       "    </tr>\n",
       "  </tbody>\n",
       "</table>\n",
       "<p>2000 rows × 6 columns</p>\n",
       "</div>"
      ],
      "text/plain": [
       "      recipe_id                                               name   content  \\\n",
       "0        230744               chiles rellenos   tucson s el charro  2.042289   \n",
       "1         35309                       restaurant vegan tofu burger  1.282144   \n",
       "2        222782                             chicken rice casserole  1.655037   \n",
       "3        348692          george s oven fried chicken by judy  jude  2.104271   \n",
       "4        407613                              christine s hot wings  1.355501   \n",
       "...         ...                                                ...       ...   \n",
       "1995     283013  strawberry spinach salad w raspberry key lime ...  0.495095   \n",
       "1996     381197            coconut lime evening milk for grown ups  0.522583   \n",
       "1997     423398  nutella pastry puffs   puff pastry with nutell...  0.411043   \n",
       "1998     272062                                 easy popcorn balls  0.342564   \n",
       "1999      47395                                 bbq sauce  low fat  1.041970   \n",
       "\n",
       "      collaborative    hybrid  rec_score  \n",
       "0          0.717338  1.379813      1.000  \n",
       "1          1.327017  1.304580      0.938  \n",
       "2          0.717338  1.186188      0.840  \n",
       "3          0.213274  1.158773      0.817  \n",
       "4          0.952588  1.154044      0.813  \n",
       "...             ...       ...        ...  \n",
       "1995       0.027220  0.261158      0.075  \n",
       "1996      -0.000493  0.261045      0.075  \n",
       "1997       0.005891  0.208467      0.031  \n",
       "1998       0.018243  0.180403      0.008  \n",
       "1999      -0.700572  0.170699      0.000  \n",
       "\n",
       "[2000 rows x 6 columns]"
      ]
     },
     "execution_count": 9,
     "metadata": {},
     "output_type": "execute_result"
    }
   ],
   "source": [
    "output_df"
   ]
  }
 ],
 "metadata": {
  "kernelspec": {
   "display_name": "Python 3",
   "language": "python",
   "name": "python3"
  },
  "language_info": {
   "codemirror_mode": {
    "name": "ipython",
    "version": 3
   },
   "file_extension": ".py",
   "mimetype": "text/x-python",
   "name": "python",
   "nbconvert_exporter": "python",
   "pygments_lexer": "ipython3",
   "version": "3.7.7"
  },
  "toc": {
   "base_numbering": 1,
   "nav_menu": {},
   "number_sections": true,
   "sideBar": true,
   "skip_h1_title": false,
   "title_cell": "Table of Contents",
   "title_sidebar": "Contents",
   "toc_cell": false,
   "toc_position": {},
   "toc_section_display": true,
   "toc_window_display": false
  }
 },
 "nbformat": 4,
 "nbformat_minor": 4
}
