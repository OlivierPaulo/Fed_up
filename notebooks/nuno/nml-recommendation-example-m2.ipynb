{
 "cells": [
  {
   "cell_type": "code",
   "execution_count": 1,
   "metadata": {},
   "outputs": [],
   "source": [
    "import numpy as np\n",
    "import pandas as pd\n",
    "import matplotlib.pyplot as plt\n",
    "import seaborn as sns"
   ]
  },
  {
   "cell_type": "code",
   "execution_count": 2,
   "metadata": {},
   "outputs": [],
   "source": [
    "basic_path = '../../Fed_up/data'"
   ]
  },
  {
   "cell_type": "code",
   "execution_count": 3,
   "metadata": {},
   "outputs": [],
   "source": [
    "recipes = pd.read_csv(f\"{basic_path}/preprocessed/recipe_pp.csv\")"
   ]
  },
  {
   "cell_type": "code",
   "execution_count": 4,
   "metadata": {},
   "outputs": [],
   "source": [
    "test_data = pd.read_csv(f\"{basic_path}/test/test_inputs.csv\")"
   ]
  },
  {
   "cell_type": "code",
   "execution_count": 5,
   "metadata": {},
   "outputs": [
    {
     "data": {
      "text/plain": [
       "(28861, 5)"
      ]
     },
     "execution_count": 5,
     "metadata": {},
     "output_type": "execute_result"
    }
   ],
   "source": [
    "test_data.shape"
   ]
  },
  {
   "cell_type": "code",
   "execution_count": 6,
   "metadata": {
    "scrolled": true
   },
   "outputs": [],
   "source": [
    "from Fed_up.model import get_user_recommendations\n",
    "from Fed_up.test import run_recommendations"
   ]
  },
  {
   "cell_type": "code",
   "execution_count": 10,
   "metadata": {
    "scrolled": true
   },
   "outputs": [
    {
     "name": "stdout",
     "output_type": "stream",
     "text": [
      "  recipe_id                               name liked\n",
      "0     16741             aunt bee s lentil soup     1\n",
      "1     10744          delicious chicken pot pie     1\n",
      "2     16575  just the best barbecue sauce ever     0\n",
      "3     22782   jo mama s world famous spaghetti     1\n",
      "4    107997       4 minute spicy garlic shrimp     1\n",
      "5    212500               mushroom noodle soup     1\n",
      "6    208930             mary s chiles rellenos     1\n",
      "   recipe_id                                       name   content  \\\n",
      "0     370886           spanish chicken with yellow rice  1.706746   \n",
      "1     248879                    spaghetti picchi pacchi  1.672462   \n",
      "2      35222               wende s lemon pepper fajitas  1.949055   \n",
      "3      67842                spicy sweet mustard chicken  1.464562   \n",
      "4     153570              tuna or salmon melt casserole  1.480162   \n",
      "5     480626     whistlestop cafe chicken and dumplings  2.375561   \n",
      "6     191035                           carolina bbq rub  0.879479   \n",
      "7      33081                    amish chicken corn soup  2.179308   \n",
      "8     384429                       chicken scarpariello  2.214511   \n",
      "9      43051  portuguese bean stew  feijao a portuguesa  2.169484   \n",
      "\n",
      "   collaborative    hybrid  rec_score  \n",
      "0       0.954052  1.330399      1.000  \n",
      "1       0.934224  1.303343      0.976  \n",
      "2       0.606344  1.277699      0.953  \n",
      "3       0.949546  1.207054      0.891  \n",
      "4       0.897993  1.189077      0.875  \n",
      "5       0.000988  1.188274      0.874  \n",
      "6       1.433668  1.156574      0.846  \n",
      "7       0.044011  1.111660      0.806  \n",
      "8      -0.006908  1.103802      0.799  \n",
      "9      -0.000698  1.084393      0.782  \n"
     ]
    }
   ],
   "source": [
    "input_df, output_df = run_recommendations(user_id=235291, collaborative=0.5)"
   ]
  },
  {
   "cell_type": "code",
   "execution_count": 11,
   "metadata": {},
   "outputs": [
    {
     "data": {
      "text/html": [
       "<div>\n",
       "<style scoped>\n",
       "    .dataframe tbody tr th:only-of-type {\n",
       "        vertical-align: middle;\n",
       "    }\n",
       "\n",
       "    .dataframe tbody tr th {\n",
       "        vertical-align: top;\n",
       "    }\n",
       "\n",
       "    .dataframe thead th {\n",
       "        text-align: right;\n",
       "    }\n",
       "</style>\n",
       "<table border=\"1\" class=\"dataframe\">\n",
       "  <thead>\n",
       "    <tr style=\"text-align: right;\">\n",
       "      <th></th>\n",
       "      <th>recipe_id</th>\n",
       "      <th>name</th>\n",
       "      <th>liked</th>\n",
       "    </tr>\n",
       "  </thead>\n",
       "  <tbody>\n",
       "    <tr>\n",
       "      <th>0</th>\n",
       "      <td>16741</td>\n",
       "      <td>aunt bee s lentil soup</td>\n",
       "      <td>1</td>\n",
       "    </tr>\n",
       "    <tr>\n",
       "      <th>1</th>\n",
       "      <td>10744</td>\n",
       "      <td>delicious chicken pot pie</td>\n",
       "      <td>1</td>\n",
       "    </tr>\n",
       "    <tr>\n",
       "      <th>2</th>\n",
       "      <td>16575</td>\n",
       "      <td>just the best barbecue sauce ever</td>\n",
       "      <td>0</td>\n",
       "    </tr>\n",
       "    <tr>\n",
       "      <th>3</th>\n",
       "      <td>22782</td>\n",
       "      <td>jo mama s world famous spaghetti</td>\n",
       "      <td>1</td>\n",
       "    </tr>\n",
       "    <tr>\n",
       "      <th>4</th>\n",
       "      <td>107997</td>\n",
       "      <td>4 minute spicy garlic shrimp</td>\n",
       "      <td>1</td>\n",
       "    </tr>\n",
       "    <tr>\n",
       "      <th>5</th>\n",
       "      <td>212500</td>\n",
       "      <td>mushroom noodle soup</td>\n",
       "      <td>1</td>\n",
       "    </tr>\n",
       "    <tr>\n",
       "      <th>6</th>\n",
       "      <td>208930</td>\n",
       "      <td>mary s chiles rellenos</td>\n",
       "      <td>1</td>\n",
       "    </tr>\n",
       "  </tbody>\n",
       "</table>\n",
       "</div>"
      ],
      "text/plain": [
       "  recipe_id                               name liked\n",
       "0     16741             aunt bee s lentil soup     1\n",
       "1     10744          delicious chicken pot pie     1\n",
       "2     16575  just the best barbecue sauce ever     0\n",
       "3     22782   jo mama s world famous spaghetti     1\n",
       "4    107997       4 minute spicy garlic shrimp     1\n",
       "5    212500               mushroom noodle soup     1\n",
       "6    208930             mary s chiles rellenos     1"
      ]
     },
     "execution_count": 11,
     "metadata": {},
     "output_type": "execute_result"
    }
   ],
   "source": [
    "input_df"
   ]
  },
  {
   "cell_type": "code",
   "execution_count": 12,
   "metadata": {},
   "outputs": [
    {
     "data": {
      "text/html": [
       "<div>\n",
       "<style scoped>\n",
       "    .dataframe tbody tr th:only-of-type {\n",
       "        vertical-align: middle;\n",
       "    }\n",
       "\n",
       "    .dataframe tbody tr th {\n",
       "        vertical-align: top;\n",
       "    }\n",
       "\n",
       "    .dataframe thead th {\n",
       "        text-align: right;\n",
       "    }\n",
       "</style>\n",
       "<table border=\"1\" class=\"dataframe\">\n",
       "  <thead>\n",
       "    <tr style=\"text-align: right;\">\n",
       "      <th></th>\n",
       "      <th>recipe_id</th>\n",
       "      <th>name</th>\n",
       "      <th>content</th>\n",
       "      <th>collaborative</th>\n",
       "      <th>hybrid</th>\n",
       "      <th>rec_score</th>\n",
       "    </tr>\n",
       "  </thead>\n",
       "  <tbody>\n",
       "    <tr>\n",
       "      <th>0</th>\n",
       "      <td>370886</td>\n",
       "      <td>spanish chicken with yellow rice</td>\n",
       "      <td>1.706746</td>\n",
       "      <td>0.954052</td>\n",
       "      <td>1.330399</td>\n",
       "      <td>1.000</td>\n",
       "    </tr>\n",
       "    <tr>\n",
       "      <th>1</th>\n",
       "      <td>248879</td>\n",
       "      <td>spaghetti picchi pacchi</td>\n",
       "      <td>1.672462</td>\n",
       "      <td>0.934224</td>\n",
       "      <td>1.303343</td>\n",
       "      <td>0.976</td>\n",
       "    </tr>\n",
       "    <tr>\n",
       "      <th>2</th>\n",
       "      <td>35222</td>\n",
       "      <td>wende s lemon pepper fajitas</td>\n",
       "      <td>1.949055</td>\n",
       "      <td>0.606344</td>\n",
       "      <td>1.277699</td>\n",
       "      <td>0.953</td>\n",
       "    </tr>\n",
       "    <tr>\n",
       "      <th>3</th>\n",
       "      <td>67842</td>\n",
       "      <td>spicy sweet mustard chicken</td>\n",
       "      <td>1.464562</td>\n",
       "      <td>0.949546</td>\n",
       "      <td>1.207054</td>\n",
       "      <td>0.891</td>\n",
       "    </tr>\n",
       "    <tr>\n",
       "      <th>4</th>\n",
       "      <td>153570</td>\n",
       "      <td>tuna or salmon melt casserole</td>\n",
       "      <td>1.480162</td>\n",
       "      <td>0.897993</td>\n",
       "      <td>1.189077</td>\n",
       "      <td>0.875</td>\n",
       "    </tr>\n",
       "    <tr>\n",
       "      <th>5</th>\n",
       "      <td>480626</td>\n",
       "      <td>whistlestop cafe chicken and dumplings</td>\n",
       "      <td>2.375561</td>\n",
       "      <td>0.000988</td>\n",
       "      <td>1.188274</td>\n",
       "      <td>0.874</td>\n",
       "    </tr>\n",
       "    <tr>\n",
       "      <th>6</th>\n",
       "      <td>191035</td>\n",
       "      <td>carolina bbq rub</td>\n",
       "      <td>0.879479</td>\n",
       "      <td>1.433668</td>\n",
       "      <td>1.156574</td>\n",
       "      <td>0.846</td>\n",
       "    </tr>\n",
       "    <tr>\n",
       "      <th>7</th>\n",
       "      <td>33081</td>\n",
       "      <td>amish chicken corn soup</td>\n",
       "      <td>2.179308</td>\n",
       "      <td>0.044011</td>\n",
       "      <td>1.111660</td>\n",
       "      <td>0.806</td>\n",
       "    </tr>\n",
       "    <tr>\n",
       "      <th>8</th>\n",
       "      <td>384429</td>\n",
       "      <td>chicken scarpariello</td>\n",
       "      <td>2.214511</td>\n",
       "      <td>-0.006908</td>\n",
       "      <td>1.103802</td>\n",
       "      <td>0.799</td>\n",
       "    </tr>\n",
       "    <tr>\n",
       "      <th>9</th>\n",
       "      <td>43051</td>\n",
       "      <td>portuguese bean stew  feijao a portuguesa</td>\n",
       "      <td>2.169484</td>\n",
       "      <td>-0.000698</td>\n",
       "      <td>1.084393</td>\n",
       "      <td>0.782</td>\n",
       "    </tr>\n",
       "  </tbody>\n",
       "</table>\n",
       "</div>"
      ],
      "text/plain": [
       "   recipe_id                                       name   content  \\\n",
       "0     370886           spanish chicken with yellow rice  1.706746   \n",
       "1     248879                    spaghetti picchi pacchi  1.672462   \n",
       "2      35222               wende s lemon pepper fajitas  1.949055   \n",
       "3      67842                spicy sweet mustard chicken  1.464562   \n",
       "4     153570              tuna or salmon melt casserole  1.480162   \n",
       "5     480626     whistlestop cafe chicken and dumplings  2.375561   \n",
       "6     191035                           carolina bbq rub  0.879479   \n",
       "7      33081                    amish chicken corn soup  2.179308   \n",
       "8     384429                       chicken scarpariello  2.214511   \n",
       "9      43051  portuguese bean stew  feijao a portuguesa  2.169484   \n",
       "\n",
       "   collaborative    hybrid  rec_score  \n",
       "0       0.954052  1.330399      1.000  \n",
       "1       0.934224  1.303343      0.976  \n",
       "2       0.606344  1.277699      0.953  \n",
       "3       0.949546  1.207054      0.891  \n",
       "4       0.897993  1.189077      0.875  \n",
       "5       0.000988  1.188274      0.874  \n",
       "6       1.433668  1.156574      0.846  \n",
       "7       0.044011  1.111660      0.806  \n",
       "8      -0.006908  1.103802      0.799  \n",
       "9      -0.000698  1.084393      0.782  "
      ]
     },
     "execution_count": 12,
     "metadata": {},
     "output_type": "execute_result"
    }
   ],
   "source": [
    "output_df.head(10)"
   ]
  }
 ],
 "metadata": {
  "kernelspec": {
   "display_name": "Python 3",
   "language": "python",
   "name": "python3"
  },
  "language_info": {
   "codemirror_mode": {
    "name": "ipython",
    "version": 3
   },
   "file_extension": ".py",
   "mimetype": "text/x-python",
   "name": "python",
   "nbconvert_exporter": "python",
   "pygments_lexer": "ipython3",
   "version": "3.7.7"
  },
  "toc": {
   "base_numbering": 1,
   "nav_menu": {},
   "number_sections": true,
   "sideBar": true,
   "skip_h1_title": false,
   "title_cell": "Table of Contents",
   "title_sidebar": "Contents",
   "toc_cell": false,
   "toc_position": {},
   "toc_section_display": true,
   "toc_window_display": false
  }
 },
 "nbformat": 4,
 "nbformat_minor": 4
}
