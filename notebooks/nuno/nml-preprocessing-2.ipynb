{
 "cells": [
  {
   "cell_type": "code",
   "execution_count": 52,
   "metadata": {},
   "outputs": [],
   "source": [
    "import numpy as np\n",
    "import pandas as pd\n",
    "import matplotlib.pyplot as plt\n",
    "import seaborn as sns"
   ]
  },
  {
   "cell_type": "code",
   "execution_count": 53,
   "metadata": {},
   "outputs": [
    {
     "name": "stdout",
     "output_type": "stream",
     "text": [
      "recipe_pp.csv     recipe_pp_old.csv review_pp.csv     review_pp_old.csv\r\n"
     ]
    }
   ],
   "source": [
    "!ls '../../Fed_up/data/preprocessed'"
   ]
  },
  {
   "cell_type": "code",
   "execution_count": 54,
   "metadata": {},
   "outputs": [],
   "source": [
    "recipes = pd.read_csv('../../Fed_up/data/preprocessed/recipe_pp.csv')"
   ]
  },
  {
   "cell_type": "code",
   "execution_count": 55,
   "metadata": {},
   "outputs": [
    {
     "data": {
      "text/plain": [
       "(88927, 21)"
      ]
     },
     "execution_count": 55,
     "metadata": {},
     "output_type": "execute_result"
    }
   ],
   "source": [
    "recipes.shape"
   ]
  },
  {
   "cell_type": "code",
   "execution_count": 56,
   "metadata": {},
   "outputs": [
    {
     "data": {
      "text/html": [
       "<div>\n",
       "<style scoped>\n",
       "    .dataframe tbody tr th:only-of-type {\n",
       "        vertical-align: middle;\n",
       "    }\n",
       "\n",
       "    .dataframe tbody tr th {\n",
       "        vertical-align: top;\n",
       "    }\n",
       "\n",
       "    .dataframe thead th {\n",
       "        text-align: right;\n",
       "    }\n",
       "</style>\n",
       "<table border=\"1\" class=\"dataframe\">\n",
       "  <thead>\n",
       "    <tr style=\"text-align: right;\">\n",
       "      <th></th>\n",
       "      <th>recipe_id</th>\n",
       "      <th>user_id</th>\n",
       "      <th>name</th>\n",
       "      <th>rating_mean</th>\n",
       "      <th>rating_count</th>\n",
       "      <th>minutes</th>\n",
       "      <th>n_steps</th>\n",
       "      <th>n_ingredients</th>\n",
       "      <th>calories</th>\n",
       "      <th>total_fat</th>\n",
       "      <th>...</th>\n",
       "      <th>sodium</th>\n",
       "      <th>protein</th>\n",
       "      <th>saturated_fat</th>\n",
       "      <th>carbohydrates</th>\n",
       "      <th>tags</th>\n",
       "      <th>ingredients</th>\n",
       "      <th>steps</th>\n",
       "      <th>description</th>\n",
       "      <th>metadata</th>\n",
       "      <th>submitted</th>\n",
       "    </tr>\n",
       "  </thead>\n",
       "  <tbody>\n",
       "    <tr>\n",
       "      <th>0</th>\n",
       "      <td>137739</td>\n",
       "      <td>47892</td>\n",
       "      <td>arriba   baked winter squash mexican style</td>\n",
       "      <td>5.000000</td>\n",
       "      <td>3</td>\n",
       "      <td>55</td>\n",
       "      <td>11</td>\n",
       "      <td>7</td>\n",
       "      <td>51.5</td>\n",
       "      <td>0.0</td>\n",
       "      <td>...</td>\n",
       "      <td>0.0</td>\n",
       "      <td>2.0</td>\n",
       "      <td>0.0</td>\n",
       "      <td>4.0</td>\n",
       "      <td>['60-minutes-or-less', 'time-to-make', 'course...</td>\n",
       "      <td>['winter squash', 'mexican seasoning', 'mixed ...</td>\n",
       "      <td>['make a choice and proceed with recipe', 'dep...</td>\n",
       "      <td>autumn is my favorite time of year to cook! th...</td>\n",
       "      <td>['arriba', 'baked', 'winter', 'squash', 'mexic...</td>\n",
       "      <td>2005-09-16</td>\n",
       "    </tr>\n",
       "    <tr>\n",
       "      <th>1</th>\n",
       "      <td>59389</td>\n",
       "      <td>68585</td>\n",
       "      <td>alouette  potatoes</td>\n",
       "      <td>4.000000</td>\n",
       "      <td>1</td>\n",
       "      <td>45</td>\n",
       "      <td>11</td>\n",
       "      <td>11</td>\n",
       "      <td>368.1</td>\n",
       "      <td>17.0</td>\n",
       "      <td>...</td>\n",
       "      <td>2.0</td>\n",
       "      <td>14.0</td>\n",
       "      <td>8.0</td>\n",
       "      <td>20.0</td>\n",
       "      <td>['60-minutes-or-less', 'time-to-make', 'course...</td>\n",
       "      <td>['spreadable cheese with garlic and herbs', 'n...</td>\n",
       "      <td>['place potatoes in a large pot of lightly sal...</td>\n",
       "      <td>this is a super easy, great tasting, make ahea...</td>\n",
       "      <td>['alouette', 'potatoes', '60minutesorless', 't...</td>\n",
       "      <td>2003-04-14</td>\n",
       "    </tr>\n",
       "    <tr>\n",
       "      <th>2</th>\n",
       "      <td>25274</td>\n",
       "      <td>21730</td>\n",
       "      <td>aww  marinated olives</td>\n",
       "      <td>2.000000</td>\n",
       "      <td>1</td>\n",
       "      <td>15</td>\n",
       "      <td>4</td>\n",
       "      <td>9</td>\n",
       "      <td>380.7</td>\n",
       "      <td>53.0</td>\n",
       "      <td>...</td>\n",
       "      <td>24.0</td>\n",
       "      <td>6.0</td>\n",
       "      <td>24.0</td>\n",
       "      <td>6.0</td>\n",
       "      <td>['15-minutes-or-less', 'time-to-make', 'course...</td>\n",
       "      <td>['fennel seeds', 'green olives', 'ripe olives'...</td>\n",
       "      <td>['toast the fennel seeds and lightly crush the...</td>\n",
       "      <td>my italian mil was thoroughly impressed by my ...</td>\n",
       "      <td>['aww', 'marinated', 'olives', '15minutesorles...</td>\n",
       "      <td>2002-04-14</td>\n",
       "    </tr>\n",
       "    <tr>\n",
       "      <th>3</th>\n",
       "      <td>8559</td>\n",
       "      <td>4481</td>\n",
       "      <td>chinese  chop suey</td>\n",
       "      <td>2.333333</td>\n",
       "      <td>3</td>\n",
       "      <td>70</td>\n",
       "      <td>8</td>\n",
       "      <td>7</td>\n",
       "      <td>395.4</td>\n",
       "      <td>31.0</td>\n",
       "      <td>...</td>\n",
       "      <td>29.0</td>\n",
       "      <td>51.0</td>\n",
       "      <td>33.0</td>\n",
       "      <td>8.0</td>\n",
       "      <td>['weeknight', 'time-to-make', 'course', 'main-...</td>\n",
       "      <td>['celery', 'onion', 'ground pork', 'soy sauce'...</td>\n",
       "      <td>['brown ground meat and onion in a large pot',...</td>\n",
       "      <td>easy one-pot dinner.</td>\n",
       "      <td>['chinese', 'chop', 'suey', 'weeknight', 'time...</td>\n",
       "      <td>2001-01-27</td>\n",
       "    </tr>\n",
       "    <tr>\n",
       "      <th>4</th>\n",
       "      <td>76808</td>\n",
       "      <td>95743</td>\n",
       "      <td>cream  of spinach soup</td>\n",
       "      <td>4.666667</td>\n",
       "      <td>3</td>\n",
       "      <td>45</td>\n",
       "      <td>9</td>\n",
       "      <td>8</td>\n",
       "      <td>126.0</td>\n",
       "      <td>11.0</td>\n",
       "      <td>...</td>\n",
       "      <td>14.0</td>\n",
       "      <td>5.0</td>\n",
       "      <td>23.0</td>\n",
       "      <td>4.0</td>\n",
       "      <td>['60-minutes-or-less', 'time-to-make', 'course...</td>\n",
       "      <td>['water', 'salt', 'boiling potatoes', 'fresh s...</td>\n",
       "      <td>['bring water and salt to a boil', 'cut the po...</td>\n",
       "      <td>wonderful comfort food from rozanne gold, a fa...</td>\n",
       "      <td>['cream', 'spinach', 'soup', '60minutesorless'...</td>\n",
       "      <td>2003-11-17</td>\n",
       "    </tr>\n",
       "  </tbody>\n",
       "</table>\n",
       "<p>5 rows × 21 columns</p>\n",
       "</div>"
      ],
      "text/plain": [
       "   recipe_id  user_id                                        name  \\\n",
       "0     137739    47892  arriba   baked winter squash mexican style   \n",
       "1      59389    68585                          alouette  potatoes   \n",
       "2      25274    21730                       aww  marinated olives   \n",
       "3       8559     4481                          chinese  chop suey   \n",
       "4      76808    95743                      cream  of spinach soup   \n",
       "\n",
       "   rating_mean  rating_count  minutes  n_steps  n_ingredients  calories  \\\n",
       "0     5.000000             3       55       11              7      51.5   \n",
       "1     4.000000             1       45       11             11     368.1   \n",
       "2     2.000000             1       15        4              9     380.7   \n",
       "3     2.333333             3       70        8              7     395.4   \n",
       "4     4.666667             3       45        9              8     126.0   \n",
       "\n",
       "   total_fat  ...  sodium  protein  saturated_fat  carbohydrates  \\\n",
       "0        0.0  ...     0.0      2.0            0.0            4.0   \n",
       "1       17.0  ...     2.0     14.0            8.0           20.0   \n",
       "2       53.0  ...    24.0      6.0           24.0            6.0   \n",
       "3       31.0  ...    29.0     51.0           33.0            8.0   \n",
       "4       11.0  ...    14.0      5.0           23.0            4.0   \n",
       "\n",
       "                                                tags  \\\n",
       "0  ['60-minutes-or-less', 'time-to-make', 'course...   \n",
       "1  ['60-minutes-or-less', 'time-to-make', 'course...   \n",
       "2  ['15-minutes-or-less', 'time-to-make', 'course...   \n",
       "3  ['weeknight', 'time-to-make', 'course', 'main-...   \n",
       "4  ['60-minutes-or-less', 'time-to-make', 'course...   \n",
       "\n",
       "                                         ingredients  \\\n",
       "0  ['winter squash', 'mexican seasoning', 'mixed ...   \n",
       "1  ['spreadable cheese with garlic and herbs', 'n...   \n",
       "2  ['fennel seeds', 'green olives', 'ripe olives'...   \n",
       "3  ['celery', 'onion', 'ground pork', 'soy sauce'...   \n",
       "4  ['water', 'salt', 'boiling potatoes', 'fresh s...   \n",
       "\n",
       "                                               steps  \\\n",
       "0  ['make a choice and proceed with recipe', 'dep...   \n",
       "1  ['place potatoes in a large pot of lightly sal...   \n",
       "2  ['toast the fennel seeds and lightly crush the...   \n",
       "3  ['brown ground meat and onion in a large pot',...   \n",
       "4  ['bring water and salt to a boil', 'cut the po...   \n",
       "\n",
       "                                         description  \\\n",
       "0  autumn is my favorite time of year to cook! th...   \n",
       "1  this is a super easy, great tasting, make ahea...   \n",
       "2  my italian mil was thoroughly impressed by my ...   \n",
       "3                              easy one-pot dinner.    \n",
       "4  wonderful comfort food from rozanne gold, a fa...   \n",
       "\n",
       "                                            metadata   submitted  \n",
       "0  ['arriba', 'baked', 'winter', 'squash', 'mexic...  2005-09-16  \n",
       "1  ['alouette', 'potatoes', '60minutesorless', 't...  2003-04-14  \n",
       "2  ['aww', 'marinated', 'olives', '15minutesorles...  2002-04-14  \n",
       "3  ['chinese', 'chop', 'suey', 'weeknight', 'time...  2001-01-27  \n",
       "4  ['cream', 'spinach', 'soup', '60minutesorless'...  2003-11-17  \n",
       "\n",
       "[5 rows x 21 columns]"
      ]
     },
     "execution_count": 56,
     "metadata": {},
     "output_type": "execute_result"
    }
   ],
   "source": [
    "recipes.head()"
   ]
  },
  {
   "cell_type": "code",
   "execution_count": 57,
   "metadata": {},
   "outputs": [],
   "source": [
    "reviews = pd.read_csv('../../Fed_up/data/preprocessed/review_pp.csv')"
   ]
  },
  {
   "cell_type": "code",
   "execution_count": 58,
   "metadata": {},
   "outputs": [
    {
     "data": {
      "text/plain": [
       "(388326, 6)"
      ]
     },
     "execution_count": 58,
     "metadata": {},
     "output_type": "execute_result"
    }
   ],
   "source": [
    "reviews.shape"
   ]
  },
  {
   "cell_type": "code",
   "execution_count": 59,
   "metadata": {},
   "outputs": [
    {
     "data": {
      "text/html": [
       "<div>\n",
       "<style scoped>\n",
       "    .dataframe tbody tr th:only-of-type {\n",
       "        vertical-align: middle;\n",
       "    }\n",
       "\n",
       "    .dataframe tbody tr th {\n",
       "        vertical-align: top;\n",
       "    }\n",
       "\n",
       "    .dataframe thead th {\n",
       "        text-align: right;\n",
       "    }\n",
       "</style>\n",
       "<table border=\"1\" class=\"dataframe\">\n",
       "  <thead>\n",
       "    <tr style=\"text-align: right;\">\n",
       "      <th></th>\n",
       "      <th>recipe_id</th>\n",
       "      <th>user_id</th>\n",
       "      <th>rating</th>\n",
       "      <th>liked</th>\n",
       "      <th>review</th>\n",
       "      <th>date</th>\n",
       "    </tr>\n",
       "  </thead>\n",
       "  <tbody>\n",
       "    <tr>\n",
       "      <th>0</th>\n",
       "      <td>197160</td>\n",
       "      <td>136726</td>\n",
       "      <td>5</td>\n",
       "      <td>1</td>\n",
       "      <td>I used this mix to make meat balls.Very simple...</td>\n",
       "      <td>2006-11-25</td>\n",
       "    </tr>\n",
       "    <tr>\n",
       "      <th>1</th>\n",
       "      <td>79222</td>\n",
       "      <td>56680</td>\n",
       "      <td>5</td>\n",
       "      <td>1</td>\n",
       "      <td>Oh, This was wonderful!  Had a soup and salad ...</td>\n",
       "      <td>2006-11-11</td>\n",
       "    </tr>\n",
       "    <tr>\n",
       "      <th>2</th>\n",
       "      <td>20930</td>\n",
       "      <td>6258</td>\n",
       "      <td>5</td>\n",
       "      <td>1</td>\n",
       "      <td>Jan, what an interesting combination of flavor...</td>\n",
       "      <td>2002-07-09</td>\n",
       "    </tr>\n",
       "    <tr>\n",
       "      <th>3</th>\n",
       "      <td>20930</td>\n",
       "      <td>102602</td>\n",
       "      <td>5</td>\n",
       "      <td>1</td>\n",
       "      <td>Jan, we love your pasta salad, it's delicious....</td>\n",
       "      <td>2003-10-26</td>\n",
       "    </tr>\n",
       "    <tr>\n",
       "      <th>4</th>\n",
       "      <td>79222</td>\n",
       "      <td>183565</td>\n",
       "      <td>5</td>\n",
       "      <td>1</td>\n",
       "      <td>Wow!  My family loves this recipe and it is a ...</td>\n",
       "      <td>2006-02-13</td>\n",
       "    </tr>\n",
       "  </tbody>\n",
       "</table>\n",
       "</div>"
      ],
      "text/plain": [
       "   recipe_id  user_id  rating  liked  \\\n",
       "0     197160   136726       5      1   \n",
       "1      79222    56680       5      1   \n",
       "2      20930     6258       5      1   \n",
       "3      20930   102602       5      1   \n",
       "4      79222   183565       5      1   \n",
       "\n",
       "                                              review        date  \n",
       "0  I used this mix to make meat balls.Very simple...  2006-11-25  \n",
       "1  Oh, This was wonderful!  Had a soup and salad ...  2006-11-11  \n",
       "2  Jan, what an interesting combination of flavor...  2002-07-09  \n",
       "3  Jan, we love your pasta salad, it's delicious....  2003-10-26  \n",
       "4  Wow!  My family loves this recipe and it is a ...  2006-02-13  "
      ]
     },
     "execution_count": 59,
     "metadata": {},
     "output_type": "execute_result"
    }
   ],
   "source": [
    "reviews.head()"
   ]
  },
  {
   "cell_type": "code",
   "execution_count": 60,
   "metadata": {},
   "outputs": [
    {
     "data": {
      "text/plain": [
       "388326"
      ]
     },
     "execution_count": 60,
     "metadata": {},
     "output_type": "execute_result"
    }
   ],
   "source": [
    "reviews.shape[0]"
   ]
  },
  {
   "cell_type": "code",
   "execution_count": 61,
   "metadata": {},
   "outputs": [
    {
     "data": {
      "text/plain": [
       "(388324, 6)"
      ]
     },
     "execution_count": 61,
     "metadata": {},
     "output_type": "execute_result"
    }
   ],
   "source": [
    "count_df = reviews.groupby(by=\"user_id\").count()\n",
    "count_df = count_df[count_df.rating < 2].reset_index()\n",
    "users_to_remove = set(count_df.user_id)\n",
    "reviews = reviews[~reviews.user_id.isin(users_to_remove)]\n",
    "reviews.shape"
   ]
  },
  {
   "cell_type": "code",
   "execution_count": 62,
   "metadata": {},
   "outputs": [
    {
     "data": {
      "text/html": [
       "<div>\n",
       "<style scoped>\n",
       "    .dataframe tbody tr th:only-of-type {\n",
       "        vertical-align: middle;\n",
       "    }\n",
       "\n",
       "    .dataframe tbody tr th {\n",
       "        vertical-align: top;\n",
       "    }\n",
       "\n",
       "    .dataframe thead th {\n",
       "        text-align: right;\n",
       "    }\n",
       "</style>\n",
       "<table border=\"1\" class=\"dataframe\">\n",
       "  <thead>\n",
       "    <tr style=\"text-align: right;\">\n",
       "      <th></th>\n",
       "      <th>recipe_id</th>\n",
       "      <th>user_id</th>\n",
       "      <th>rating</th>\n",
       "      <th>liked</th>\n",
       "      <th>review</th>\n",
       "      <th>date</th>\n",
       "    </tr>\n",
       "  </thead>\n",
       "  <tbody>\n",
       "  </tbody>\n",
       "</table>\n",
       "</div>"
      ],
      "text/plain": [
       "Empty DataFrame\n",
       "Columns: [recipe_id, user_id, rating, liked, review, date]\n",
       "Index: []"
      ]
     },
     "execution_count": 62,
     "metadata": {},
     "output_type": "execute_result"
    }
   ],
   "source": [
    "reviews[reviews['user_id'] == 1581]"
   ]
  }
 ],
 "metadata": {
  "kernelspec": {
   "display_name": "Python 3",
   "language": "python",
   "name": "python3"
  },
  "language_info": {
   "codemirror_mode": {
    "name": "ipython",
    "version": 3
   },
   "file_extension": ".py",
   "mimetype": "text/x-python",
   "name": "python",
   "nbconvert_exporter": "python",
   "pygments_lexer": "ipython3",
   "version": "3.7.7"
  },
  "toc": {
   "base_numbering": 1,
   "nav_menu": {},
   "number_sections": true,
   "sideBar": true,
   "skip_h1_title": false,
   "title_cell": "Table of Contents",
   "title_sidebar": "Contents",
   "toc_cell": false,
   "toc_position": {},
   "toc_section_display": true,
   "toc_window_display": false
  }
 },
 "nbformat": 4,
 "nbformat_minor": 4
}
