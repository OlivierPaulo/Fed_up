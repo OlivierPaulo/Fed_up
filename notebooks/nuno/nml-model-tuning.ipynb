{
 "cells": [
  {
   "cell_type": "code",
   "execution_count": 1,
   "metadata": {},
   "outputs": [],
   "source": [
    "import numpy as np\n",
    "import pandas as pd\n",
    "import matplotlib.pyplot as plt\n",
    "import seaborn as sns"
   ]
  },
  {
   "cell_type": "code",
   "execution_count": 2,
   "metadata": {},
   "outputs": [],
   "source": [
    "from Fed_up import test"
   ]
  },
  {
   "cell_type": "code",
   "execution_count": 3,
   "metadata": {},
   "outputs": [],
   "source": [
    "vectorizors = ['count', 'tfidf']\n",
    "ngrams = [(1,1), (1,2), (2,2)]\n",
    "min_df = [0.0, 0.1, 0.2]\n",
    "max_df = [0.8, 0.9, 1.0]\n",
    "redutors = ['svd', 'nmf']"
   ]
  },
  {
   "cell_type": "code",
   "execution_count": 4,
   "metadata": {},
   "outputs": [],
   "source": [
    "outputs = pd.DataFrame(columns=['vectorizor', 'redutor', 'ngram', 'min_df', 'max_df', \n",
    "                                'rating_mae', 'rating_le', 'like_accuracy', 'like_precision', \n",
    "                                'like_recall', 'like_f1', 'size', 'time'])"
   ]
  },
  {
   "cell_type": "code",
   "execution_count": 5,
   "metadata": {},
   "outputs": [
    {
     "name": "stdout",
     "output_type": "stream",
     "text": [
      "Fetching the test inputs...\n",
      "Calculating predictions...\n",
      "Preparing results dataframe...\n",
      "Cleaning up failed scores...\n",
      "Iterating and filling results dataframe...\n",
      "Saving results dataframe...\n",
      "Calculating metrics for tests...\n"
     ]
    }
   ],
   "source": [
    "# Baseline\n",
    "\n",
    "import time\n",
    "\n",
    "start = time.time()\n",
    "data, metrics = test.run_test(predict = False, sample = 100, local=True)\n",
    "end = time.time()\n",
    "duration = end - start\n",
    "\n",
    "new_row = {'vectorizor': '-', 'redutor': '-', 'ngram': '-', 'min_df': '-', 'max_df': '-', \n",
    "           'rating_mae': metrics['rating_mae'], 'rating_le': metrics['rating_le'], \n",
    "           'like_accuracy': metrics['like_accuracy'], 'like_precision': metrics['like_precision'], \n",
    "           'like_recall': metrics['like_recall'], 'like_f1': metrics['like_f1'], \n",
    "           'size': len(data), 'time': duration}\n",
    "\n",
    "outputs = outputs.append(new_row, ignore_index=True)"
   ]
  },
  {
   "cell_type": "code",
   "execution_count": 6,
   "metadata": {},
   "outputs": [
    {
     "data": {
      "text/html": [
       "<div>\n",
       "<style scoped>\n",
       "    .dataframe tbody tr th:only-of-type {\n",
       "        vertical-align: middle;\n",
       "    }\n",
       "\n",
       "    .dataframe tbody tr th {\n",
       "        vertical-align: top;\n",
       "    }\n",
       "\n",
       "    .dataframe thead th {\n",
       "        text-align: right;\n",
       "    }\n",
       "</style>\n",
       "<table border=\"1\" class=\"dataframe\">\n",
       "  <thead>\n",
       "    <tr style=\"text-align: right;\">\n",
       "      <th></th>\n",
       "      <th>vectorizor</th>\n",
       "      <th>redutor</th>\n",
       "      <th>ngram</th>\n",
       "      <th>min_df</th>\n",
       "      <th>max_df</th>\n",
       "      <th>rating_mae</th>\n",
       "      <th>rating_le</th>\n",
       "      <th>like_accuracy</th>\n",
       "      <th>like_precision</th>\n",
       "      <th>like_recall</th>\n",
       "      <th>like_f1</th>\n",
       "      <th>size</th>\n",
       "      <th>time</th>\n",
       "    </tr>\n",
       "  </thead>\n",
       "  <tbody>\n",
       "    <tr>\n",
       "      <th>0</th>\n",
       "      <td>-</td>\n",
       "      <td>-</td>\n",
       "      <td>-</td>\n",
       "      <td>-</td>\n",
       "      <td>-</td>\n",
       "      <td>0.48</td>\n",
       "      <td>0.04</td>\n",
       "      <td>0.92</td>\n",
       "      <td>0.958</td>\n",
       "      <td>0.958</td>\n",
       "      <td>0.958</td>\n",
       "      <td>100</td>\n",
       "      <td>0.75982</td>\n",
       "    </tr>\n",
       "  </tbody>\n",
       "</table>\n",
       "</div>"
      ],
      "text/plain": [
       "  vectorizor redutor ngram min_df max_df  rating_mae  rating_le  \\\n",
       "0          -       -     -      -      -        0.48       0.04   \n",
       "\n",
       "   like_accuracy  like_precision  like_recall  like_f1 size     time  \n",
       "0           0.92           0.958        0.958    0.958  100  0.75982  "
      ]
     },
     "execution_count": 6,
     "metadata": {},
     "output_type": "execute_result"
    }
   ],
   "source": [
    "outputs"
   ]
  },
  {
   "cell_type": "code",
   "execution_count": null,
   "metadata": {},
   "outputs": [
    {
     "name": "stdout",
     "output_type": "stream",
     "text": [
      "Fetching the test inputs...\n",
      "Calculating predictions...\n",
      "> (12471) Prediction for user 375894 done: 0.751!\n",
      "> (19992) Prediction for user 831612 done: 0.583!\n",
      "> (25450) Prediction for user 1608793 done: 0.159!\n",
      "> (6494) Prediction for user 183942 done: 0.417!\n",
      "> (3265) Prediction for user 92295 done: 0.734!\n",
      "> (19949) Prediction for user 828089 done: 0.21!\n",
      "> (7085) Prediction for user 200171 done: 0.234!\n"
     ]
    }
   ],
   "source": [
    "import time\n",
    "\n",
    "for v in vectorizors:\n",
    "    for ng in ngrams:\n",
    "        for r in redutors:\n",
    "            min_df, max_df = 1, 1.0\n",
    "            \n",
    "            start = time.time()\n",
    "            data, metrics = test.run_test(sample = 100, vectorizer = v, dimred = r, \n",
    "                                          ngram = ng, min_df = min_df, max_df = max_df)\n",
    "            end = time.time()\n",
    "            duration = end - start\n",
    "            \n",
    "            new_row = {'vectorizor': v, 'redutor': r, 'ngram': ng, 'min_df': min_df, 'max_df': max_df, \n",
    "                       'rating_mae': metrics['rating_mae'], 'rating_le': metrics['rating_le'], \n",
    "                       'like_accuracy': metrics['like_accuracy'], 'like_precision': metrics['like_precision'], \n",
    "                       'like_recall': metrics['like_recall'], 'like_f1': metrics['like_f1'], \n",
    "                       'size': len(data), 'time': duration}\n",
    "            \n",
    "            outputs = outputs.append(new_row, ignore_index=True)\n",
    "            print(\"\")\n",
    "            display(outputs)\n",
    "            print(\"\")"
   ]
  },
  {
   "cell_type": "code",
   "execution_count": null,
   "metadata": {},
   "outputs": [],
   "source": []
  }
 ],
 "metadata": {
  "kernelspec": {
   "display_name": "Python 3",
   "language": "python",
   "name": "python3"
  },
  "language_info": {
   "codemirror_mode": {
    "name": "ipython",
    "version": 3
   },
   "file_extension": ".py",
   "mimetype": "text/x-python",
   "name": "python",
   "nbconvert_exporter": "python",
   "pygments_lexer": "ipython3",
   "version": "3.7.7"
  },
  "toc": {
   "base_numbering": 1,
   "nav_menu": {},
   "number_sections": true,
   "sideBar": true,
   "skip_h1_title": false,
   "title_cell": "Table of Contents",
   "title_sidebar": "Contents",
   "toc_cell": false,
   "toc_position": {},
   "toc_section_display": true,
   "toc_window_display": false
  }
 },
 "nbformat": 4,
 "nbformat_minor": 4
}
