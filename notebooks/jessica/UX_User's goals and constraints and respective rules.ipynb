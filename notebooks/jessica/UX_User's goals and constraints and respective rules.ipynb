{
 "cells": [
  {
   "cell_type": "markdown",
   "metadata": {},
   "source": [
    "# At the subscription"
   ]
  },
  {
   "cell_type": "markdown",
   "metadata": {},
   "source": [
    "## User profile"
   ]
  },
  {
   "cell_type": "markdown",
   "metadata": {},
   "source": [
    "**Goal:** The user must define his/her profile."
   ]
  },
  {
   "cell_type": "markdown",
   "metadata": {},
   "source": [
    "- **Gender**: the user chooses between: **male / female** \n",
    "- **Age**: the user fills a number or selects one in drop-down list?\n",
    "- **Height**: the user fills a number\n",
    "- **Weight**: the user fills a number\n",
    "- **Diet**: the user chooses between **Lose weight / maintain weight / build muscle**\n",
    "- **Activity level**: the user chooses between **sedentary / low / moderate / high**"
   ]
  },
  {
   "cell_type": "markdown",
   "metadata": {},
   "source": [
    "### ❓Questions"
   ]
  },
  {
   "cell_type": "markdown",
   "metadata": {},
   "source": [
    "- Should we ask the user his preferences regarding the units? **Imperial** (pounds/feets) or **metric** (kg/m)\n",
    "- Should the user set a goal weight?"
   ]
  },
  {
   "cell_type": "markdown",
   "metadata": {},
   "source": [
    "## User preferences (Static Preferences)"
   ]
  },
  {
   "cell_type": "markdown",
   "metadata": {},
   "source": [
    "- All the preferences set by the user must filter the database.\n",
    "- Those preferences can be changed in the `settings`.\n",
    "- Fed Up provides predefined tags and the user just has to click on it. We can also provide a search bar to allow the user to search one special iteam.\n",
    "\n",
    "The categories come from Meanlime. If you are **vegan** in the `1.2.1 Diet`, Fed Up won't suggest **Fish** or **Egg** in `1.2.2 Allergies` neither in `1.2.3 Dislikes`"
   ]
  },
  {
   "cell_type": "markdown",
   "metadata": {
    "heading_collapsed": true
   },
   "source": [
    "### Diet"
   ]
  },
  {
   "cell_type": "markdown",
   "metadata": {
    "hidden": true
   },
   "source": [
    "- **Classic**\n",
    "- **Low Carb**\n",
    "- **Flexitarian:** easy on meat\n",
    "- **Vegetarian:** zero meat\n",
    "- **Pescetarian:** vegetarian + seafood\n",
    "- **Vegan:** only plants\n",
    "\n",
    "Just one click by the user."
   ]
  },
  {
   "cell_type": "markdown",
   "metadata": {
    "heading_collapsed": true
   },
   "source": [
    "### Allergies"
   ]
  },
  {
   "cell_type": "markdown",
   "metadata": {
    "hidden": true
   },
   "source": [
    "- Shellfish\n",
    "- Fish\n",
    "- Gluten\n",
    "- Peanut\n",
    "- Dairy\n",
    "- Tree nut\n",
    "- Soy\n",
    "- Egg\n",
    "- Sesame\n",
    "- Mustard\n",
    "- Sulfite\n",
    "- Nightshade\n",
    "\n",
    "The user can select more than 1 tag and can look for an item in a search bar. "
   ]
  },
  {
   "cell_type": "markdown",
   "metadata": {
    "heading_collapsed": true
   },
   "source": [
    "### Dislikes"
   ]
  },
  {
   "cell_type": "markdown",
   "metadata": {
    "hidden": true
   },
   "source": [
    "- Avocado\n",
    "- Beef\n",
    "- Beets\n",
    "- Bell peppers\n",
    "- Blue cheese\n",
    "- Brussels sprouts\n",
    "- Cauliflower\n",
    "- Eggplant\n",
    "- Eggs\n",
    "- Goat cheese\n",
    "- Lamb\n",
    "- Mushrooms\n",
    "- Olives\n",
    "- Pork\n",
    "- Quinoa\n",
    "- Salmon\n",
    "- Shrimp\n",
    "- Tofu\n",
    "- Tuna\n",
    "\n",
    "The user can select more than 1 tag and can look for an item in a search bar. "
   ]
  },
  {
   "cell_type": "markdown",
   "metadata": {},
   "source": [
    "# At any login on *Fed Up!* app (Dynamic Preferences)"
   ]
  },
  {
   "cell_type": "markdown",
   "metadata": {},
   "source": [
    "**Goal:** Get the recommendation for the planning"
   ]
  },
  {
   "cell_type": "markdown",
   "metadata": {},
   "source": [
    "## How many days?"
   ]
  },
  {
   "cell_type": "markdown",
   "metadata": {},
   "source": [
    "- Drop-down list with 3-days by default"
   ]
  },
  {
   "cell_type": "markdown",
   "metadata": {},
   "source": [
    "## Courses"
   ]
  },
  {
   "cell_type": "markdown",
   "metadata": {},
   "source": [
    "- Breakfast\n",
    "- Meal"
   ]
  },
  {
   "cell_type": "markdown",
   "metadata": {},
   "source": [
    "## Time"
   ]
  },
  {
   "cell_type": "markdown",
   "metadata": {},
   "source": [
    "- Up to 15min\n",
    "- Up to 30min\n",
    "- Up to 45min\n",
    "- Up to 1h\n",
    "- More than 1h"
   ]
  },
  {
   "cell_type": "markdown",
   "metadata": {},
   "source": [
    "## How many servings?"
   ]
  },
  {
   "cell_type": "markdown",
   "metadata": {},
   "source": [
    "- 1 serving\n",
    "- 2 servings (for two, or one with leftlovers)\n",
    "- 4 servings\n",
    "- 6 servings"
   ]
  },
  {
   "cell_type": "markdown",
   "metadata": {},
   "source": [
    "## Recipes"
   ]
  },
  {
   "cell_type": "markdown",
   "metadata": {},
   "source": [
    "- New things and different ingredients\n",
    "- Familiar and family-friendly flavors"
   ]
  },
  {
   "cell_type": "markdown",
   "metadata": {},
   "source": [
    "# Nutritional Rules to achieve your goals"
   ]
  },
  {
   "cell_type": "markdown",
   "metadata": {},
   "source": [
    "## How many calories to consume each day?"
   ]
  },
  {
   "cell_type": "markdown",
   "metadata": {},
   "source": [
    "### Caculate the calorie needs"
   ]
  },
  {
   "cell_type": "markdown",
   "metadata": {},
   "source": [
    "- **Men:** $calories/day = 10 \\times \\ weight (kg) + 6.25 \\times \\ height (cm) – 5 \\times \\ age (y) + 5$\n",
    "\n",
    "\n",
    "- **Women:** $calories/day = 10 \\times\\ weight (kg) + 6.25 \\times \\ height (cm) – 5 \\times \\ age (y) – 161$"
   ]
  },
  {
   "cell_type": "markdown",
   "metadata": {},
   "source": [
    "### Multiply the calorie needs by the activity factor to get the TDEE"
   ]
  },
  {
   "cell_type": "markdown",
   "metadata": {},
   "source": [
    "|Activity|Factor|\n",
    "|-----|-------|\n",
    "|Sedentary|1.2|\n",
    "|Low|1.375|\n",
    "|Moderate|1.55|\n",
    "|High|1.725|\n"
   ]
  },
  {
   "cell_type": "markdown",
   "metadata": {},
   "source": [
    "## Macronutrient Breakdown"
   ]
  },
  {
   "cell_type": "markdown",
   "metadata": {},
   "source": [
    "|Diet|Default|Low Carb|Low Fat|High Proteins|\n",
    "|-------|-------|-------|-------|-------|\n",
    "|Goal|Maintain Weight|Lose Weight|Obesity|Build Muscles|\n",
    "|Carb|50%|30%|55%|35%|\n",
    "|Proteins|20%|25%|20%|40%|\n",
    "|Fat|30%|45%|25%|25%|"
   ]
  },
  {
   "cell_type": "markdown",
   "metadata": {},
   "source": []
  }
 ],
 "metadata": {
  "kernelspec": {
   "display_name": "Python 3",
   "language": "python",
   "name": "python3"
  },
  "language_info": {
   "codemirror_mode": {
    "name": "ipython",
    "version": 3
   },
   "file_extension": ".py",
   "mimetype": "text/x-python",
   "name": "python",
   "nbconvert_exporter": "python",
   "pygments_lexer": "ipython3",
   "version": "3.7.7"
  },
  "toc": {
   "base_numbering": 1,
   "nav_menu": {},
   "number_sections": true,
   "sideBar": true,
   "skip_h1_title": false,
   "title_cell": "Table of Contents",
   "title_sidebar": "Contents",
   "toc_cell": false,
   "toc_position": {
    "height": "calc(100% - 180px)",
    "left": "10px",
    "top": "150px",
    "width": "165px"
   },
   "toc_section_display": true,
   "toc_window_display": true
  }
 },
 "nbformat": 4,
 "nbformat_minor": 4
}
