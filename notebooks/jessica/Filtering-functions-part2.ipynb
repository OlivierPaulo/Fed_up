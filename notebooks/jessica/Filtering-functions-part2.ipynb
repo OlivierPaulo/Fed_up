{
 "cells": [
  {
   "cell_type": "markdown",
   "metadata": {},
   "source": [
    "# Get Data"
   ]
  },
  {
   "cell_type": "code",
   "execution_count": 1,
   "metadata": {},
   "outputs": [
    {
     "name": "stdout",
     "output_type": "stream",
     "text": [
      "/Users/jessicaribeiro/code/Phlasse/Fed_up/notebooks/jessica\r\n"
     ]
    }
   ],
   "source": [
    "!pwd"
   ]
  },
  {
   "cell_type": "code",
   "execution_count": 2,
   "metadata": {},
   "outputs": [
    {
     "name": "stdout",
     "output_type": "stream",
     "text": [
      "/Users/jessicaribeiro/code/Phlasse/Fed_up\n"
     ]
    }
   ],
   "source": [
    "cd ../.."
   ]
  },
  {
   "cell_type": "code",
   "execution_count": 3,
   "metadata": {},
   "outputs": [
    {
     "name": "stdout",
     "output_type": "stream",
     "text": [
      "Processing /Users/jessicaribeiro/code/Phlasse/Fed_up\n",
      "Building wheels for collected packages: Fed-up\n",
      "  Building wheel for Fed-up (setup.py) ... \u001b[?25ldone\n",
      "\u001b[?25h  Created wheel for Fed-up: filename=Fed_up-1.0-py3-none-any.whl size=355284702 sha256=e517397e60a83e0dedd2a9f757cdc57e71b9f44a4bc62a64374b4a037d71c618\n",
      "  Stored in directory: /private/var/folders/qr/sg2zn2_92v5dz6gmdrcpznzh0000gn/T/pip-ephem-wheel-cache-_z0lqrs7/wheels/05/65/79/99550702f47a5c2a829c31c34c27875db48737c5ef67898c81\n",
      "Successfully built Fed-up\n",
      "Installing collected packages: Fed-up\n",
      "  Attempting uninstall: Fed-up\n",
      "    Found existing installation: Fed-up 1.0\n",
      "    Uninstalling Fed-up-1.0:\n",
      "      Successfully uninstalled Fed-up-1.0\n",
      "Successfully installed Fed-up-1.0\n",
      "\u001b[33mWARNING: You are using pip version 20.2.3; however, version 20.2.4 is available.\n",
      "You should consider upgrading via the '/Users/jessicaribeiro/.pyenv/versions/3.7.7/envs/lewagon/bin/python3.7 -m pip install --upgrade pip' command.\u001b[0m\n"
     ]
    }
   ],
   "source": [
    "!make install"
   ]
  },
  {
   "cell_type": "code",
   "execution_count": 89,
   "metadata": {},
   "outputs": [],
   "source": [
    "import pandas as pd\n",
    "#LIST_COLS = ['ingredients','tags']\n",
    "#converters = {col: eval for col in LIST_COLS}\n",
    "recipe_df = pd.read_csv('Fed_up/data/raw/data-preprocessed-recipe_pp.csv')"
   ]
  },
  {
   "cell_type": "markdown",
   "metadata": {},
   "source": [
    "# Data"
   ]
  },
  {
   "cell_type": "code",
   "execution_count": 152,
   "metadata": {
    "scrolled": true
   },
   "outputs": [
    {
     "data": {
      "text/plain": [
       "(88927, 21)"
      ]
     },
     "execution_count": 152,
     "metadata": {},
     "output_type": "execute_result"
    }
   ],
   "source": [
    "recipe_df.shape"
   ]
  },
  {
   "cell_type": "code",
   "execution_count": 91,
   "metadata": {},
   "outputs": [
    {
     "data": {
      "text/html": [
       "<div>\n",
       "<style scoped>\n",
       "    .dataframe tbody tr th:only-of-type {\n",
       "        vertical-align: middle;\n",
       "    }\n",
       "\n",
       "    .dataframe tbody tr th {\n",
       "        vertical-align: top;\n",
       "    }\n",
       "\n",
       "    .dataframe thead th {\n",
       "        text-align: right;\n",
       "    }\n",
       "</style>\n",
       "<table border=\"1\" class=\"dataframe\">\n",
       "  <thead>\n",
       "    <tr style=\"text-align: right;\">\n",
       "      <th></th>\n",
       "      <th>recipe_id</th>\n",
       "      <th>user_id</th>\n",
       "      <th>name</th>\n",
       "      <th>rating_mean</th>\n",
       "      <th>rating_count</th>\n",
       "      <th>minutes</th>\n",
       "      <th>n_steps</th>\n",
       "      <th>n_ingredients</th>\n",
       "      <th>calories</th>\n",
       "      <th>total_fat</th>\n",
       "      <th>...</th>\n",
       "      <th>sodium</th>\n",
       "      <th>protein</th>\n",
       "      <th>saturated_fat</th>\n",
       "      <th>carbohydrates</th>\n",
       "      <th>tags</th>\n",
       "      <th>ingredients</th>\n",
       "      <th>steps</th>\n",
       "      <th>description</th>\n",
       "      <th>metadata</th>\n",
       "      <th>submitted</th>\n",
       "    </tr>\n",
       "  </thead>\n",
       "  <tbody>\n",
       "    <tr>\n",
       "      <th>62092</th>\n",
       "      <td>88684</td>\n",
       "      <td>28201</td>\n",
       "      <td>potatoes italiano</td>\n",
       "      <td>4.5</td>\n",
       "      <td>4</td>\n",
       "      <td>65</td>\n",
       "      <td>8</td>\n",
       "      <td>10</td>\n",
       "      <td>354.5</td>\n",
       "      <td>27.0</td>\n",
       "      <td>...</td>\n",
       "      <td>25.0</td>\n",
       "      <td>25.0</td>\n",
       "      <td>44.0</td>\n",
       "      <td>12.0</td>\n",
       "      <td>['time-to-make', 'course', 'main-ingredient', ...</td>\n",
       "      <td>['baking potatoes', 'olive oil', 'parmesan che...</td>\n",
       "      <td>['preheat oven to 400', 'peel and slice potato...</td>\n",
       "      <td>this is a nice departure from scalloped or mas...</td>\n",
       "      <td>['potatoes', 'italiano', 'timetomake', 'course...</td>\n",
       "      <td>2004-04-09</td>\n",
       "    </tr>\n",
       "    <tr>\n",
       "      <th>11065</th>\n",
       "      <td>340567</td>\n",
       "      <td>337308</td>\n",
       "      <td>broccoli with linguine</td>\n",
       "      <td>4.0</td>\n",
       "      <td>1</td>\n",
       "      <td>30</td>\n",
       "      <td>11</td>\n",
       "      <td>8</td>\n",
       "      <td>534.9</td>\n",
       "      <td>38.0</td>\n",
       "      <td>...</td>\n",
       "      <td>13.0</td>\n",
       "      <td>30.0</td>\n",
       "      <td>29.0</td>\n",
       "      <td>21.0</td>\n",
       "      <td>['30-minutes-or-less', 'time-to-make', 'course...</td>\n",
       "      <td>['broccoli', 'extra virgin olive oil', 'garlic...</td>\n",
       "      <td>['preheat the oven to 100c place a large servi...</td>\n",
       "      <td>this recipe looks a little off beat, but is ac...</td>\n",
       "      <td>['broccoli', 'linguine', '30minutesorless', 't...</td>\n",
       "      <td>2008-12-01</td>\n",
       "    </tr>\n",
       "    <tr>\n",
       "      <th>73274</th>\n",
       "      <td>478251</td>\n",
       "      <td>226863</td>\n",
       "      <td>sour cream pilaf</td>\n",
       "      <td>5.0</td>\n",
       "      <td>2</td>\n",
       "      <td>45</td>\n",
       "      <td>13</td>\n",
       "      <td>12</td>\n",
       "      <td>428.2</td>\n",
       "      <td>38.0</td>\n",
       "      <td>...</td>\n",
       "      <td>37.0</td>\n",
       "      <td>18.0</td>\n",
       "      <td>63.0</td>\n",
       "      <td>13.0</td>\n",
       "      <td>['60-minutes-or-less', 'time-to-make', 'course...</td>\n",
       "      <td>['slivered almonds', 'butter', 'long-grain ric...</td>\n",
       "      <td>['saute almonds in 1 tbsp butter in a small sk...</td>\n",
       "      <td>great side dish for any meal.  of course, i lo...</td>\n",
       "      <td>['sour', 'cream', 'pilaf', '60minutesorless', ...</td>\n",
       "      <td>2012-04-20</td>\n",
       "    </tr>\n",
       "  </tbody>\n",
       "</table>\n",
       "<p>3 rows × 21 columns</p>\n",
       "</div>"
      ],
      "text/plain": [
       "       recipe_id  user_id                    name  rating_mean  rating_count  \\\n",
       "62092      88684    28201       potatoes italiano          4.5             4   \n",
       "11065     340567   337308  broccoli with linguine          4.0             1   \n",
       "73274     478251   226863        sour cream pilaf          5.0             2   \n",
       "\n",
       "       minutes  n_steps  n_ingredients  calories  total_fat  ...  sodium  \\\n",
       "62092       65        8             10     354.5       27.0  ...    25.0   \n",
       "11065       30       11              8     534.9       38.0  ...    13.0   \n",
       "73274       45       13             12     428.2       38.0  ...    37.0   \n",
       "\n",
       "       protein  saturated_fat  carbohydrates  \\\n",
       "62092     25.0           44.0           12.0   \n",
       "11065     30.0           29.0           21.0   \n",
       "73274     18.0           63.0           13.0   \n",
       "\n",
       "                                                    tags  \\\n",
       "62092  ['time-to-make', 'course', 'main-ingredient', ...   \n",
       "11065  ['30-minutes-or-less', 'time-to-make', 'course...   \n",
       "73274  ['60-minutes-or-less', 'time-to-make', 'course...   \n",
       "\n",
       "                                             ingredients  \\\n",
       "62092  ['baking potatoes', 'olive oil', 'parmesan che...   \n",
       "11065  ['broccoli', 'extra virgin olive oil', 'garlic...   \n",
       "73274  ['slivered almonds', 'butter', 'long-grain ric...   \n",
       "\n",
       "                                                   steps  \\\n",
       "62092  ['preheat oven to 400', 'peel and slice potato...   \n",
       "11065  ['preheat the oven to 100c place a large servi...   \n",
       "73274  ['saute almonds in 1 tbsp butter in a small sk...   \n",
       "\n",
       "                                             description  \\\n",
       "62092  this is a nice departure from scalloped or mas...   \n",
       "11065  this recipe looks a little off beat, but is ac...   \n",
       "73274  great side dish for any meal.  of course, i lo...   \n",
       "\n",
       "                                                metadata   submitted  \n",
       "62092  ['potatoes', 'italiano', 'timetomake', 'course...  2004-04-09  \n",
       "11065  ['broccoli', 'linguine', '30minutesorless', 't...  2008-12-01  \n",
       "73274  ['sour', 'cream', 'pilaf', '60minutesorless', ...  2012-04-20  \n",
       "\n",
       "[3 rows x 21 columns]"
      ]
     },
     "execution_count": 91,
     "metadata": {},
     "output_type": "execute_result"
    }
   ],
   "source": [
    "recipe_df.sample(3)"
   ]
  },
  {
   "cell_type": "code",
   "execution_count": 167,
   "metadata": {
    "scrolled": true
   },
   "outputs": [
    {
     "data": {
      "text/html": [
       "<div>\n",
       "<style scoped>\n",
       "    .dataframe tbody tr th:only-of-type {\n",
       "        vertical-align: middle;\n",
       "    }\n",
       "\n",
       "    .dataframe tbody tr th {\n",
       "        vertical-align: top;\n",
       "    }\n",
       "\n",
       "    .dataframe thead th {\n",
       "        text-align: right;\n",
       "    }\n",
       "</style>\n",
       "<table border=\"1\" class=\"dataframe\">\n",
       "  <thead>\n",
       "    <tr style=\"text-align: right;\">\n",
       "      <th></th>\n",
       "      <th>recipe_id</th>\n",
       "      <th>user_id</th>\n",
       "      <th>name</th>\n",
       "      <th>rating_mean</th>\n",
       "      <th>rating_count</th>\n",
       "      <th>minutes</th>\n",
       "      <th>n_steps</th>\n",
       "      <th>n_ingredients</th>\n",
       "      <th>calories</th>\n",
       "      <th>total_fat</th>\n",
       "      <th>...</th>\n",
       "      <th>sodium</th>\n",
       "      <th>protein</th>\n",
       "      <th>saturated_fat</th>\n",
       "      <th>carbohydrates</th>\n",
       "      <th>tags</th>\n",
       "      <th>ingredients</th>\n",
       "      <th>steps</th>\n",
       "      <th>description</th>\n",
       "      <th>metadata</th>\n",
       "      <th>submitted</th>\n",
       "    </tr>\n",
       "  </thead>\n",
       "  <tbody>\n",
       "    <tr>\n",
       "      <th>53289</th>\n",
       "      <td>161452</td>\n",
       "      <td>244102</td>\n",
       "      <td>mushrooms on the side</td>\n",
       "      <td>5.0</td>\n",
       "      <td>1</td>\n",
       "      <td>40</td>\n",
       "      <td>14</td>\n",
       "      <td>2</td>\n",
       "      <td>152.3</td>\n",
       "      <td>24.0</td>\n",
       "      <td>...</td>\n",
       "      <td>4.0</td>\n",
       "      <td>5.0</td>\n",
       "      <td>48.0</td>\n",
       "      <td>0.0</td>\n",
       "      <td>['60-minutes-or-less', 'time-to-make', 'course...</td>\n",
       "      <td>['butter', 'mushroom']</td>\n",
       "      <td>['clean your mushrooms', 'to slice your mushro...</td>\n",
       "      <td>too easy and lots of people like them! i do th...</td>\n",
       "      <td>['mushrooms', 'side', '60minutesorless', 'time...</td>\n",
       "      <td>2006-03-25</td>\n",
       "    </tr>\n",
       "  </tbody>\n",
       "</table>\n",
       "<p>1 rows × 21 columns</p>\n",
       "</div>"
      ],
      "text/plain": [
       "       recipe_id  user_id                   name  rating_mean  rating_count  \\\n",
       "53289     161452   244102  mushrooms on the side          5.0             1   \n",
       "\n",
       "       minutes  n_steps  n_ingredients  calories  total_fat  ...  sodium  \\\n",
       "53289       40       14              2     152.3       24.0  ...     4.0   \n",
       "\n",
       "       protein  saturated_fat  carbohydrates  \\\n",
       "53289      5.0           48.0            0.0   \n",
       "\n",
       "                                                    tags  \\\n",
       "53289  ['60-minutes-or-less', 'time-to-make', 'course...   \n",
       "\n",
       "                  ingredients  \\\n",
       "53289  ['butter', 'mushroom']   \n",
       "\n",
       "                                                   steps  \\\n",
       "53289  ['clean your mushrooms', 'to slice your mushro...   \n",
       "\n",
       "                                             description  \\\n",
       "53289  too easy and lots of people like them! i do th...   \n",
       "\n",
       "                                                metadata   submitted  \n",
       "53289  ['mushrooms', 'side', '60minutesorless', 'time...  2006-03-25  \n",
       "\n",
       "[1 rows x 21 columns]"
      ]
     },
     "execution_count": 167,
     "metadata": {},
     "output_type": "execute_result"
    }
   ],
   "source": [
    "recipe_df[recipe_df.recipe_id == 161452]"
   ]
  },
  {
   "cell_type": "code",
   "execution_count": 161,
   "metadata": {},
   "outputs": [
    {
     "name": "stdout",
     "output_type": "stream",
     "text": [
      "447730\n",
      "['avocados', 'lemon juice', 'onion', 'red pepper sauce']\n",
      "['15-minutes-or-less', 'time-to-make', 'course', 'main-ingredient', 'cuisine', 'preparation', 'occasion', 'north-american', 'low-protein', '5-ingredients-or-less', 'appetizers', 'vegetables', 'american', 'cajun', 'canadian', 'southern-united-states', 'easy', 'beginner-cook', 'dinner-party', 'vegan', 'vegetarian', 'dips', 'dietary', 'low-sodium', 'low-cholesterol', 'low-carb', 'healthy-2', 'ontario', 'low-in-something', 'onions', 'peppers', '3-steps-or-less', 'avocado']\n"
     ]
    }
   ],
   "source": [
    "print(recipe_df.recipe_id[39527]),\n",
    "print(recipe_df.ingredients[39527]),\n",
    "print(recipe_df.tags[39527])"
   ]
  },
  {
   "cell_type": "markdown",
   "metadata": {},
   "source": [
    "# Explore ingredients"
   ]
  },
  {
   "cell_type": "code",
   "execution_count": 73,
   "metadata": {},
   "outputs": [
    {
     "name": "stdout",
     "output_type": "stream",
     "text": [
      "<class 'pandas.core.series.Series'>\n",
      "<class 'str'>\n",
      "0    ['winter squash', 'mexican seasoning', 'mixed ...\n",
      "1    ['spreadable cheese with garlic and herbs', 'n...\n",
      "2    ['fennel seeds', 'green olives', 'ripe olives'...\n",
      "Name: ingredients, dtype: object\n"
     ]
    }
   ],
   "source": [
    "print(type(recipe_df.ingredients))\n",
    "print(type(recipe_df.ingredients[0]))\n",
    "print((recipe_df.ingredients[0:3]))"
   ]
  },
  {
   "cell_type": "code",
   "execution_count": 80,
   "metadata": {},
   "outputs": [],
   "source": [
    "def concat(series):\n",
    "    for word in series:\n",
    "        list_concat.add(word)\n",
    "    return list_concat"
   ]
  },
  {
   "cell_type": "code",
   "execution_count": 81,
   "metadata": {},
   "outputs": [],
   "source": [
    "list_concat = set()\n",
    "unique_tags = recipe_df.tags.apply(concat)"
   ]
  },
  {
   "cell_type": "code",
   "execution_count": 82,
   "metadata": {},
   "outputs": [
    {
     "data": {
      "text/plain": [
       "430"
      ]
     },
     "execution_count": 82,
     "metadata": {},
     "output_type": "execute_result"
    }
   ],
   "source": [
    "len(unique_tags[0])"
   ]
  },
  {
   "cell_type": "code",
   "execution_count": 88,
   "metadata": {
    "scrolled": true
   },
   "outputs": [
    {
     "data": {
      "text/plain": [
       "{'',\n",
       " '1-day-or-more',\n",
       " '15-minutes-or-less',\n",
       " '3-steps-or-less',\n",
       " '30-minutes-or-less',\n",
       " '4-hours-or-less',\n",
       " '5-ingredients-or-less',\n",
       " '60-minutes-or-less',\n",
       " 'a1-sauce',\n",
       " 'african',\n",
       " 'american',\n",
       " 'amish-mennonite',\n",
       " 'angolan',\n",
       " 'appetizers',\n",
       " 'apples',\n",
       " 'argentine',\n",
       " 'artichoke',\n",
       " 'asian',\n",
       " 'asparagus',\n",
       " 'australian',\n",
       " 'austrian',\n",
       " 'avocado',\n",
       " 'bacon',\n",
       " 'baja',\n",
       " 'baking',\n",
       " 'bananas',\n",
       " 'barbecue',\n",
       " 'bass',\n",
       " 'beans',\n",
       " 'beef',\n",
       " 'beef-liver',\n",
       " 'beef-organ-meats',\n",
       " 'beef-ribs',\n",
       " 'beef-sausage',\n",
       " 'beginner-cook',\n",
       " 'beijing',\n",
       " 'belgian',\n",
       " 'birthday',\n",
       " 'bisques-cream-soups',\n",
       " 'black-beans',\n",
       " 'bok-choys',\n",
       " 'brazilian',\n",
       " 'bread-machine',\n",
       " 'breads',\n",
       " 'british-columbian',\n",
       " 'broccoli',\n",
       " 'broil',\n",
       " 'brown-bag',\n",
       " 'brown-rice',\n",
       " 'brunch',\n",
       " 'burgers',\n",
       " 'cajun',\n",
       " 'californian',\n",
       " 'cambodian',\n",
       " 'camping',\n",
       " 'canadian',\n",
       " 'canning',\n",
       " 'cantonese',\n",
       " 'caribbean',\n",
       " 'carrots',\n",
       " 'casseroles',\n",
       " 'catfish',\n",
       " 'cauliflower',\n",
       " 'celebrity',\n",
       " 'central-american',\n",
       " 'chard',\n",
       " 'cheese',\n",
       " 'chick-peas-garbanzos',\n",
       " 'chicken',\n",
       " 'chicken-breasts',\n",
       " 'chicken-livers',\n",
       " 'chicken-thighs-legs',\n",
       " 'chilean',\n",
       " 'chili',\n",
       " 'chinese',\n",
       " 'chowders',\n",
       " 'christmas',\n",
       " 'chutneys',\n",
       " 'cinco-de-mayo',\n",
       " 'citrus',\n",
       " 'clams',\n",
       " 'clear-soups',\n",
       " 'coconut',\n",
       " 'cod',\n",
       " 'collard-greens',\n",
       " 'college',\n",
       " 'colombian',\n",
       " 'comfort-food',\n",
       " 'condiments-etc',\n",
       " 'congolese',\n",
       " 'cooking-mixes',\n",
       " 'copycat',\n",
       " 'corn',\n",
       " 'costa-rican',\n",
       " 'course',\n",
       " 'crab',\n",
       " 'crawfish',\n",
       " 'creole',\n",
       " 'crock-pot-slow-cooker',\n",
       " 'cuban',\n",
       " 'cuisine',\n",
       " 'curries',\n",
       " 'czech',\n",
       " 'dairy-free',\n",
       " 'danish',\n",
       " 'deep-fry',\n",
       " 'deer',\n",
       " 'dehydrator',\n",
       " 'diabetic',\n",
       " 'dietary',\n",
       " 'dinner-party',\n",
       " 'dips',\n",
       " 'duck',\n",
       " 'dutch',\n",
       " 'easter',\n",
       " 'easy',\n",
       " 'ecuadorean',\n",
       " 'egg-free',\n",
       " 'eggplant',\n",
       " 'eggs',\n",
       " 'eggs-dairy',\n",
       " 'egyptian',\n",
       " 'elbow-macaroni',\n",
       " 'elk',\n",
       " 'english',\n",
       " 'equipment',\n",
       " 'ethiopian',\n",
       " 'european',\n",
       " 'fall',\n",
       " 'fathers-day',\n",
       " 'filipino',\n",
       " 'finger-food',\n",
       " 'finnish',\n",
       " 'fish',\n",
       " 'flat-shapes',\n",
       " 'food-processor-blender',\n",
       " 'for-1-or-2',\n",
       " 'for-large-groups',\n",
       " 'free-of-something',\n",
       " 'freezer',\n",
       " 'french',\n",
       " 'freshwater-fish',\n",
       " 'from-scratch',\n",
       " 'fruit',\n",
       " 'garnishes',\n",
       " 'georgian',\n",
       " 'german',\n",
       " 'gifts',\n",
       " 'gluten-free',\n",
       " 'goose',\n",
       " 'grains',\n",
       " 'grapes',\n",
       " 'greek',\n",
       " 'green-yellow-beans',\n",
       " 'greens',\n",
       " 'grilling',\n",
       " 'ground-beef',\n",
       " 'guatemalan',\n",
       " 'gumbo',\n",
       " 'halibut',\n",
       " 'halloween',\n",
       " 'ham',\n",
       " 'hanukkah',\n",
       " 'hawaiian',\n",
       " 'healthy',\n",
       " 'healthy-2',\n",
       " 'heirloom-historical',\n",
       " 'herb-and-spice-mixes',\n",
       " 'hidden-valley-ranch',\n",
       " 'high-calcium',\n",
       " 'high-fiber',\n",
       " 'high-in-something',\n",
       " 'high-protein',\n",
       " 'holiday-event',\n",
       " 'honduran',\n",
       " 'hunan',\n",
       " 'hungarian',\n",
       " 'icelandic',\n",
       " 'independence-day',\n",
       " 'indian',\n",
       " 'indonesian',\n",
       " 'inexpensive',\n",
       " 'infant-baby-friendly',\n",
       " 'iranian-persian',\n",
       " 'iraqi',\n",
       " 'irish',\n",
       " 'italian',\n",
       " 'jams-and-preserves',\n",
       " 'japanese',\n",
       " 'jewish-ashkenazi',\n",
       " 'jewish-sephardi',\n",
       " 'kid-friendly',\n",
       " 'korean',\n",
       " 'kosher',\n",
       " 'kwanzaa',\n",
       " 'labor-day',\n",
       " 'lactose',\n",
       " 'lamb-sheep',\n",
       " 'laotian',\n",
       " 'lasagna',\n",
       " 'lebanese',\n",
       " 'leftovers',\n",
       " 'lemon',\n",
       " 'lentils',\n",
       " 'lettuces',\n",
       " 'libyan',\n",
       " 'lime',\n",
       " 'lobster',\n",
       " 'long-grain-rice',\n",
       " 'low-calorie',\n",
       " 'low-carb',\n",
       " 'low-cholesterol',\n",
       " 'low-fat',\n",
       " 'low-in-something',\n",
       " 'low-protein',\n",
       " 'low-saturated-fat',\n",
       " 'low-sodium',\n",
       " 'lunch',\n",
       " 'macaroni-and-cheese',\n",
       " 'mahi-mahi',\n",
       " 'main-dish',\n",
       " 'main-ingredient',\n",
       " 'malaysian',\n",
       " 'mango',\n",
       " 'manicotti',\n",
       " 'mardi-gras-carnival',\n",
       " 'marinades-and-rubs',\n",
       " 'mashed-potatoes',\n",
       " 'meat',\n",
       " 'meatballs',\n",
       " 'meatloaf',\n",
       " 'medium-grain-rice',\n",
       " 'melons',\n",
       " 'memorial-day',\n",
       " 'mexican',\n",
       " 'micro-melanesia',\n",
       " 'microwave',\n",
       " 'middle-eastern',\n",
       " 'midwestern',\n",
       " 'mixer',\n",
       " 'mongolian',\n",
       " 'moose',\n",
       " 'moroccan',\n",
       " 'mothers-day',\n",
       " 'mushrooms',\n",
       " 'mussels',\n",
       " 'native-american',\n",
       " 'nepalese',\n",
       " 'new-years',\n",
       " 'new-zealand',\n",
       " 'nigerian',\n",
       " 'no-cook',\n",
       " 'no-shell-fish',\n",
       " 'north-american',\n",
       " 'northeastern-united-states',\n",
       " 'norwegian',\n",
       " 'novelty',\n",
       " 'number-of-servings',\n",
       " 'nut-free',\n",
       " 'nuts',\n",
       " 'oamc-freezer-make-ahead',\n",
       " 'oaxacan',\n",
       " 'occasion',\n",
       " 'octopus',\n",
       " 'one-dish-meal',\n",
       " 'onions',\n",
       " 'ontario',\n",
       " 'orange-roughy',\n",
       " 'oranges',\n",
       " 'oven',\n",
       " 'oysters',\n",
       " 'pacific-northwest',\n",
       " 'pakistani',\n",
       " 'palestinian',\n",
       " 'papaya',\n",
       " 'passover',\n",
       " 'pasta',\n",
       " 'pasta-rice-and-grains',\n",
       " 'pasta-shells',\n",
       " 'peanut-butter',\n",
       " 'pears',\n",
       " 'penne',\n",
       " 'pennsylvania-dutch',\n",
       " 'peppers',\n",
       " 'perch',\n",
       " 'peruvian',\n",
       " 'pheasant',\n",
       " 'picnic',\n",
       " 'pineapple',\n",
       " 'pizza',\n",
       " 'polish',\n",
       " 'polynesian',\n",
       " 'pork',\n",
       " 'pork-chops',\n",
       " 'pork-ribs',\n",
       " 'pork-sausage',\n",
       " 'portuguese',\n",
       " 'pot-pie',\n",
       " 'potatoes',\n",
       " 'potluck',\n",
       " 'poultry',\n",
       " 'preparation',\n",
       " 'presentation',\n",
       " 'pressure-canning',\n",
       " 'pressure-cooker',\n",
       " 'puerto-rican',\n",
       " 'pumpkin',\n",
       " 'quail',\n",
       " 'quebec',\n",
       " 'quiche',\n",
       " 'quick-breads',\n",
       " 'rabbit',\n",
       " 'ragu-recipe-contest',\n",
       " 'ramadan',\n",
       " 'ravioli-tortellini',\n",
       " 'refrigerator',\n",
       " 'reynolds-wrap',\n",
       " 'rice',\n",
       " 'roast',\n",
       " 'roast-beef',\n",
       " 'romantic',\n",
       " 'rosh-hashana',\n",
       " 'rosh-hashanah',\n",
       " 'russian',\n",
       " 'salad-dressings',\n",
       " 'salads',\n",
       " 'salmon',\n",
       " 'salsas',\n",
       " 'saltwater-fish',\n",
       " 'sandwiches',\n",
       " 'sauces',\n",
       " 'saudi-arabian',\n",
       " 'savory',\n",
       " 'savory-pies',\n",
       " 'savory-sauces',\n",
       " 'scallops',\n",
       " 'scandinavian',\n",
       " 'scones',\n",
       " 'scottish',\n",
       " 'seafood',\n",
       " 'seasonal',\n",
       " 'served-cold',\n",
       " 'served-hot',\n",
       " 'shellfish',\n",
       " 'short-grain-rice',\n",
       " 'shrimp',\n",
       " 'side-dishes',\n",
       " 'simply-potatoes',\n",
       " 'small-appliance',\n",
       " 'smoker',\n",
       " 'sole-and-flounder',\n",
       " 'somalian',\n",
       " 'soul',\n",
       " 'soups-stews',\n",
       " 'sourdough',\n",
       " 'south-african',\n",
       " 'south-american',\n",
       " 'south-west-pacific',\n",
       " 'southern-united-states',\n",
       " 'southwestern-united-states',\n",
       " 'soy-tofu',\n",
       " 'spaghetti',\n",
       " 'spanish',\n",
       " 'spicy',\n",
       " 'spinach',\n",
       " 'spreads',\n",
       " 'spring',\n",
       " 'squash',\n",
       " 'squid',\n",
       " 'st-patricks-day',\n",
       " 'steak',\n",
       " 'steaks',\n",
       " 'steam',\n",
       " 'stews',\n",
       " 'stir-fry',\n",
       " 'stocks',\n",
       " 'stove-top',\n",
       " 'stuffings-dressings',\n",
       " 'sudanese',\n",
       " 'summer',\n",
       " 'super-bowl',\n",
       " 'superbowl',\n",
       " 'swedish',\n",
       " 'sweet',\n",
       " 'sweet-sauces',\n",
       " 'swiss',\n",
       " 'szechuan',\n",
       " 'taste-mood',\n",
       " 'technique',\n",
       " 'tempeh',\n",
       " 'tex-mex',\n",
       " 'thai',\n",
       " 'thanksgiving',\n",
       " 'tilapia',\n",
       " 'time-to-make',\n",
       " 'to-go',\n",
       " 'toddler-friendly',\n",
       " 'tomatoes',\n",
       " 'tropical-fruit',\n",
       " 'trout',\n",
       " 'tuna',\n",
       " 'turkey',\n",
       " 'turkey-breasts',\n",
       " 'turkey-burgers',\n",
       " 'turkish',\n",
       " 'unprocessed-freezer',\n",
       " 'valentines-day',\n",
       " 'veal',\n",
       " 'vegan',\n",
       " 'vegetables',\n",
       " 'vegetarian',\n",
       " 'veggie-burgers',\n",
       " 'venezuelan',\n",
       " 'very-low-carbs',\n",
       " 'vietnamese',\n",
       " 'water-bath',\n",
       " 'wedding',\n",
       " 'weeknight',\n",
       " 'welsh',\n",
       " 'white-rice',\n",
       " 'whitefish',\n",
       " 'whole-chicken',\n",
       " 'whole-duck',\n",
       " 'whole-turkey',\n",
       " 'wild-game',\n",
       " 'wings',\n",
       " 'winter',\n",
       " 'yams-sweet-potatoes',\n",
       " 'yeast',\n",
       " 'zucchini'}"
      ]
     },
     "execution_count": 88,
     "metadata": {},
     "output_type": "execute_result"
    }
   ],
   "source": [
    "unique_tags[0]"
   ]
  },
  {
   "cell_type": "code",
   "execution_count": 83,
   "metadata": {},
   "outputs": [],
   "source": [
    "list_concat = set()\n",
    "unique_ingredients = recipe_df.ingredients.apply(concat)"
   ]
  },
  {
   "cell_type": "code",
   "execution_count": 84,
   "metadata": {},
   "outputs": [
    {
     "data": {
      "text/plain": [
       "6066"
      ]
     },
     "execution_count": 84,
     "metadata": {},
     "output_type": "execute_result"
    }
   ],
   "source": [
    "len(unique_ingredients[0])"
   ]
  },
  {
   "cell_type": "markdown",
   "metadata": {
    "heading_collapsed": true
   },
   "source": [
    "# [DONE] Diet Filter"
   ]
  },
  {
   "cell_type": "markdown",
   "metadata": {
    "hidden": true
   },
   "source": [
    "- **Classic**\n",
    "- **Low Carb**\n",
    "- **Flexitarian:** easy on meat\n",
    "- **Vegetarian:** zero meat\n",
    "- **Pescetarian:** vegetarian + seafood\n",
    "- **Vegan:** only plants\n",
    "\n",
    "Just one click by the user."
   ]
  },
  {
   "cell_type": "markdown",
   "metadata": {
    "heading_collapsed": true,
    "hidden": true
   },
   "source": [
    "## Function"
   ]
  },
  {
   "cell_type": "code",
   "execution_count": 36,
   "metadata": {
    "hidden": true
   },
   "outputs": [],
   "source": [
    "MEAT_LIST = ['meat','bacon', 'sausage', 'pork', 'chicken', 'beef', 'duck', 'lamb', 'goose', 'meatballs',\\\n",
    "             'poultry', 'turkey', 'veal', 'steak', 'pig', 'ham', 'mutton', 'rib', 'chicken breast',\\\n",
    "             'chicken-breasts', 'chicken-crock-pot', 'chicken-livers', 'chicken-stew', 'chicken-stews',\\\n",
    "             'chicken-thighs-legs','broil','beef-barley-soup','beef-crock-pot','beef-kidney','beef-liver',\\\n",
    "             'beef-organ-meats','beef-ribs','beef-sauces','beef-sausage', 'duck-breasts', 'duck breast',\\\n",
    "            'pork-chops','pork-crock-pot','pork-loin','pork-loins','pork-loins-roast','pork-ribs','pork-sausage',\\\n",
    "            'rabbit','rabbits','deer','elk','moose','bear','roast-beef','roast-beef-comfort-food',\\\n",
    "             'roast-beef-main-dish','steaks','scallops','whole-chicken','whole-duck','whole-turkey','wings',\\\n",
    "            'main-dish-beef','main-dish-chicken','main-dish-pork','turkey-breasts','turkey-burgers','meatloaf',\\\n",
    "            'gumbo','lamb-sheep','lamb-sheep-main-dish', 'lardon']"
   ]
  },
  {
   "cell_type": "code",
   "execution_count": 37,
   "metadata": {
    "hidden": true
   },
   "outputs": [],
   "source": [
    "#LIST_DIET = ['classic', 'low carb', 'flexitarian', 'vegetarian', 'pescetarian', 'vegan']\n",
    "\n",
    "def diet_filter(diet, df):\n",
    "    if diet == 'classic':\n",
    "        return df\n",
    "    elif diet == 'vegan':\n",
    "        return df[df[\"tags\"].str.contains(diet)]\n",
    "    elif diet == 'vegetarian':\n",
    "        return df[(df[\"tags\"].str.contains(diet)) | (df[\"ingredients\"].str.contains(diet))]\n",
    "    elif diet == 'pescetarian':\n",
    "        for meat in MEAT_LIST:\n",
    "            df = df[(~df[\"tags\"].str.contains(meat))&(~df[\"ingredients\"].str.contains(meat))]\n",
    "        return df\n",
    "    elif diet == 'low-carb':\n",
    "        return df[df[\"tags\"].str.contains(diet)]"
   ]
  },
  {
   "cell_type": "markdown",
   "metadata": {
    "heading_collapsed": true,
    "hidden": true
   },
   "source": [
    "## Tests"
   ]
  },
  {
   "cell_type": "code",
   "execution_count": 92,
   "metadata": {
    "hidden": true
   },
   "outputs": [
    {
     "data": {
      "text/plain": [
       "(88927, 21)"
      ]
     },
     "execution_count": 92,
     "metadata": {},
     "output_type": "execute_result"
    }
   ],
   "source": [
    "diet_filter('classic',recipe_df).shape"
   ]
  },
  {
   "cell_type": "code",
   "execution_count": 93,
   "metadata": {
    "hidden": true
   },
   "outputs": [
    {
     "data": {
      "text/plain": [
       "(4001, 21)"
      ]
     },
     "execution_count": 93,
     "metadata": {},
     "output_type": "execute_result"
    }
   ],
   "source": [
    "diet_filter('vegan',recipe_df).shape"
   ]
  },
  {
   "cell_type": "code",
   "execution_count": 94,
   "metadata": {
    "hidden": true,
    "scrolled": true
   },
   "outputs": [
    {
     "data": {
      "text/plain": [
       "(13604, 21)"
      ]
     },
     "execution_count": 94,
     "metadata": {},
     "output_type": "execute_result"
    }
   ],
   "source": [
    "diet_filter('vegetarian',recipe_df).shape"
   ]
  },
  {
   "cell_type": "code",
   "execution_count": 95,
   "metadata": {
    "hidden": true
   },
   "outputs": [
    {
     "data": {
      "text/plain": [
       "(44856, 21)"
      ]
     },
     "execution_count": 95,
     "metadata": {},
     "output_type": "execute_result"
    }
   ],
   "source": [
    "diet_filter('pescetarian',recipe_df).shape"
   ]
  },
  {
   "cell_type": "code",
   "execution_count": 96,
   "metadata": {
    "hidden": true
   },
   "outputs": [
    {
     "data": {
      "text/plain": [
       "(23560, 21)"
      ]
     },
     "execution_count": 96,
     "metadata": {},
     "output_type": "execute_result"
    }
   ],
   "source": [
    "diet_filter('low-carb',recipe_df).shape"
   ]
  },
  {
   "cell_type": "markdown",
   "metadata": {},
   "source": [
    "# [DONE] Dislike filter"
   ]
  },
  {
   "cell_type": "code",
   "execution_count": 28,
   "metadata": {
    "scrolled": true
   },
   "outputs": [
    {
     "name": "stdout",
     "output_type": "stream",
     "text": [
      "True\n"
     ]
    }
   ],
   "source": [
    "word = 'turnip'\n",
    "print(word in (', ').join(unique_ingredients[0]))"
   ]
  },
  {
   "cell_type": "markdown",
   "metadata": {},
   "source": [
    "## Predefined dislikes"
   ]
  },
  {
   "cell_type": "code",
   "execution_count": 111,
   "metadata": {},
   "outputs": [],
   "source": [
    "## Filtering DataFrame for user's dislike\n",
    "\n",
    "def dislikes_filter(dislikes_input, df):\n",
    "    \n",
    "    dislikes = {\n",
    "        'beets': ['beet'],\n",
    "        'bell peppers': ['bell pepper'],\n",
    "        'blue cheese': ['blue cheese'],\n",
    "        'brussels sprouts': ['brussels sprout'],\n",
    "        'cauliflower': ['cauliflower'],\n",
    "        'eggs': ['eggs'],\n",
    "        'goat cheese': ['goat cheese'],\n",
    "        'mushrooms': ['mushroom'],\n",
    "        'olives':['olive'],\n",
    "        'quinoa':['quinoa'],\n",
    "        'shrimp':['shrimp'],\n",
    "        'tofu':['tofu'],\n",
    "        'turnips':['turnip']\n",
    "    }\n",
    "\n",
    "    for dislike, ingredients in dislikes.items():\n",
    "            if dislike in dislikes_input:\n",
    "                for ingredient in ingredients:\n",
    "                    df = df[~df['ingredients'].str.contains(ingredient)]          \n",
    "\n",
    "    return df"
   ]
  },
  {
   "cell_type": "code",
   "execution_count": 169,
   "metadata": {},
   "outputs": [],
   "source": [
    "dislikes_input = ['beets','eggs','bell pepers','cauliflower','shrimp','mushrooms']"
   ]
  },
  {
   "cell_type": "code",
   "execution_count": 170,
   "metadata": {},
   "outputs": [
    {
     "data": {
      "text/plain": [
       "(70677, 21)"
      ]
     },
     "execution_count": 170,
     "metadata": {},
     "output_type": "execute_result"
    }
   ],
   "source": [
    "result = dislikes_filter(dislikes_input, recipe_df)\n",
    "result.shape"
   ]
  },
  {
   "cell_type": "markdown",
   "metadata": {},
   "source": [
    "## User input dislikes"
   ]
  },
  {
   "cell_type": "code",
   "execution_count": 138,
   "metadata": {},
   "outputs": [],
   "source": [
    "INGREDIENT_LIST = unique_ingredients[0]"
   ]
  },
  {
   "cell_type": "code",
   "execution_count": 185,
   "metadata": {},
   "outputs": [],
   "source": [
    "## Filtering DataFrame for manual user's dislike\n",
    "\n",
    "def manual_dislikes_filter(df, manual_dislikes_input):\n",
    "    ingredients = manual_dislikes_input.split(\", \")\n",
    "    for ingredient in ingredients:\n",
    "        df = df[~df['ingredients'].str.contains(ingredient)]\n",
    "    return df"
   ]
  },
  {
   "cell_type": "code",
   "execution_count": 186,
   "metadata": {},
   "outputs": [],
   "source": [
    "manual_dislikes_input = \"avocado, eggs, mushroom, cheese, milk\""
   ]
  },
  {
   "cell_type": "code",
   "execution_count": 187,
   "metadata": {},
   "outputs": [
    {
     "data": {
      "text/plain": [
       "(45725, 21)"
      ]
     },
     "execution_count": 187,
     "metadata": {},
     "output_type": "execute_result"
    }
   ],
   "source": [
    "test2 = manual_dislikes_filter(recipe_df, manual_dislikes_input)\n",
    "test2.shape"
   ]
  },
  {
   "cell_type": "code",
   "execution_count": null,
   "metadata": {},
   "outputs": [],
   "source": []
  },
  {
   "cell_type": "code",
   "execution_count": null,
   "metadata": {},
   "outputs": [],
   "source": []
  },
  {
   "cell_type": "markdown",
   "metadata": {},
   "source": []
  }
 ],
 "metadata": {
  "kernelspec": {
   "display_name": "Python 3",
   "language": "python",
   "name": "python3"
  },
  "language_info": {
   "codemirror_mode": {
    "name": "ipython",
    "version": 3
   },
   "file_extension": ".py",
   "mimetype": "text/x-python",
   "name": "python",
   "nbconvert_exporter": "python",
   "pygments_lexer": "ipython3",
   "version": "3.7.7"
  },
  "toc": {
   "base_numbering": 1,
   "nav_menu": {},
   "number_sections": true,
   "sideBar": true,
   "skip_h1_title": false,
   "title_cell": "Table of Contents",
   "title_sidebar": "Contents",
   "toc_cell": false,
   "toc_position": {
    "height": "calc(100% - 180px)",
    "left": "10px",
    "top": "150px",
    "width": "165px"
   },
   "toc_section_display": true,
   "toc_window_display": true
  }
 },
 "nbformat": 4,
 "nbformat_minor": 4
}
